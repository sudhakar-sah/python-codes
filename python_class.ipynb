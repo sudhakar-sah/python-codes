{
 "cells": [
  {
   "cell_type": "code",
   "execution_count": 9,
   "metadata": {
    "scrolled": true
   },
   "outputs": [
    {
     "name": "stdout",
     "output_type": "stream",
     "text": [
      "3.0\n",
      "5.0\n"
     ]
    }
   ],
   "source": [
    "import numpy as np\n",
    "\n",
    "class Complex:\n",
    "    \"\"\" A complex number class\"\"\"\n",
    "    \n",
    "    def __init__(self, realpart, complexpart):\n",
    "        self.r = realpart\n",
    "        self.c = complexpart\n",
    "        \n",
    "x = Complex(3.0, 5.0)\n",
    "\n",
    "print x.r\n",
    "print x.c"
   ]
  },
  {
   "cell_type": "code",
   "execution_count": 15,
   "metadata": {},
   "outputs": [
    {
     "name": "stdout",
     "output_type": "stream",
     "text": [
      "canine\n",
      "canine\n",
      "['trick a', 'trick aa']\n",
      "['trick b']\n"
     ]
    }
   ],
   "source": [
    "class Dog:\n",
    "    \n",
    "    type='canine'\n",
    "    \n",
    "    def __init__(self, name):\n",
    "        self.name = name \n",
    "        self.tricks = []\n",
    "        \n",
    "    def add_trick(self, trick):\n",
    "        self.tricks.append(trick)\n",
    "        \n",
    "a = Dog(\"A\")\n",
    "b = Dog(\"B\")\n",
    "\n",
    "print a.type \n",
    "print b.type\n",
    "a.add_trick(\"trick a\")\n",
    "a.add_trick(\"trick aa\")\n",
    "b.add_trick(\"trick b\")\n",
    "\n",
    "print a.tricks\n",
    "print b.tricks\n"
   ]
  },
  {
   "cell_type": "code",
   "execution_count": 33,
   "metadata": {},
   "outputs": [
    {
     "name": "stdout",
     "output_type": "stream",
     "text": [
      "('i', 8)\n",
      "('h', 7)\n",
      "('g', 6)\n",
      "('f', 5)\n",
      "('e', 4)\n",
      "('d', 3)\n",
      "('c', 2)\n",
      "('b', 1)\n",
      "('a', 0)\n"
     ]
    }
   ],
   "source": [
    "def rev(data):\n",
    "    for index in range(len(data)-1, -1, -1):\n",
    "        yield data[index], index\n",
    "\n",
    "gen = rev(\"abcdefghi\")\n",
    "\n",
    "print gen.next()\n",
    "print gen.next()\n",
    "print gen.next()\n",
    "print gen.next()\n",
    "print gen.next()\n",
    "print gen.next()\n",
    "print gen.next()\n",
    "print gen.next()\n",
    "print gen.next()\n"
   ]
  },
  {
   "cell_type": "code",
   "execution_count": 97,
   "metadata": {},
   "outputs": [
    {
     "name": "stdout",
     "output_type": "stream",
     "text": [
      "[[[1, 11, 22, 33, 44], [2, 23, 33, 43, 53], [3, 27, 37, 47, 57]], [[1, 11, 22, 33, 44], [2, 23, 33, 43, 53], [3, 27, 37, 47, 57]], []]\n",
      "(3, 1)\n"
     ]
    },
    {
     "name": "stderr",
     "output_type": "stream",
     "text": [
      "/Users/sudhakar/anaconda2/lib/python2.7/site-packages/ipykernel_launcher.py:25: DeprecationWarning: Both axis > a.ndim and axis < -a.ndim - 1 are deprecated and will raise an AxisError in the future.\n"
     ]
    }
   ],
   "source": [
    "import numpy as np\n",
    "a = np.array([[[1,11,22,33,44], \n",
    "               [2,23,33,43,53], \n",
    "               [3,27,37, 47,57]],\n",
    "              [[4,11,22,33,442], \n",
    "               [5,23,33,43,532], \n",
    "               [6,27,37,47,572]]]\n",
    "            )\n",
    "\n",
    "\n",
    "a = [[],[],[]]\n",
    "a[0].append([1,11,22,33,44])\n",
    "a[0].append([2,23,33,43,53])\n",
    "a[0].append([3,27,37, 47,57])\n",
    "\n",
    "\n",
    "a[1].append([1,11,22,33,44])\n",
    "a[1].append([2,23,33,43,53])\n",
    "a[1].append([3,27,37, 47,57])\n",
    "\n",
    "\n",
    "print a\n",
    "b = np.array(a)\n",
    "d = np.expand_dims(a, axis=0)\n",
    "\n",
    "print d.shape\n"
   ]
  },
  {
   "cell_type": "code",
   "execution_count": 123,
   "metadata": {},
   "outputs": [
    {
     "name": "stdout",
     "output_type": "stream",
     "text": [
      "<type 'list'>\n",
      "[0, 1, 2, 3, 4]\n",
      "[0, 1, 2, 3, 4]\n",
      "(5,)\n",
      "(5,)\n",
      "(5, 1)\n"
     ]
    }
   ],
   "source": [
    "print type(range(5))\n",
    "\n",
    "print range(5)\n",
    "print list(range(5))\n",
    "print np.array(range(5)).shape\n",
    "a = np.array(range(5))\n",
    "print a.shape \n",
    "b = np.expand_dims(a, axis=0)\n",
    "print b.shape\n",
    "\n"
   ]
  }
 ],
 "metadata": {
  "kernelspec": {
   "display_name": "Python 2",
   "language": "python",
   "name": "python2"
  },
  "language_info": {
   "codemirror_mode": {
    "name": "ipython",
    "version": 2
   },
   "file_extension": ".py",
   "mimetype": "text/x-python",
   "name": "python",
   "nbconvert_exporter": "python",
   "pygments_lexer": "ipython2",
   "version": "2.7.13"
  }
 },
 "nbformat": 4,
 "nbformat_minor": 2
}
