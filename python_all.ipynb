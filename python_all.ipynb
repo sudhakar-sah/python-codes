{
 "cells": [
  {
   "cell_type": "code",
   "execution_count": 337,
   "metadata": {},
   "outputs": [],
   "source": [
    "import numpy as np \n",
    "\n",
    "class Node:\n",
    "    def __init__(self, val):\n",
    "        self.l = None\n",
    "        self.r = None\n",
    "        self.v = val\n",
    "    \n",
    "class Tree:\n",
    "    def __init__(self):\n",
    "        self.root = None\n",
    "    \n",
    "    def getRoot(self):\n",
    "        return self.root\n",
    "    \n",
    "    def add(self, val):\n",
    "        if(self.root is None):\n",
    "            self.root = Node(val)\n",
    "        else:\n",
    "            self._add(val, self.root)\n",
    "    \n",
    "    def _add(self, val, node):\n",
    "        if(val < node.v):\n",
    "            if(node.l is not None):\n",
    "                self._add(val, node.l)\n",
    "            else:\n",
    "                node.l = Node(val)\n",
    "        else:\n",
    "            if(node.r is not None):\n",
    "                self._add(val, node.r)\n",
    "            else:\n",
    "                node.r = Node(val)\n",
    "    \n",
    "    def find(self, val):\n",
    "        if(self.root is not None):\n",
    "            \n",
    "            return self._find(val, self.root)\n",
    "        else:\n",
    "            return None\n",
    "    \n",
    "    def _find(self, val, node):\n",
    "        if(val == node.v):\n",
    "            print \"found\"\n",
    "            return node\n",
    "        elif (val < node.v and node.l is not None):\n",
    "            print \"left node :\", node.v\n",
    "            self._find(val, node.l)\n",
    "        elif (val > node.v and node.r is not None):\n",
    "            print \"right node: \" , node.v\n",
    "            self._find(val,node.r)\n",
    "    \n",
    "    def deleteTree(self):\n",
    "        # garbage collector will do this for us \n",
    "        self.root = None\n",
    "\n",
    "    def pre_order_traversal(self):\n",
    "        if(self.root is not None):\n",
    "            self._pre_order_traversal(self.root)\n",
    "        else:\n",
    "            print \"empty tree\"\n",
    "        \n",
    "    def _pre_order_traversal(self, node):\n",
    "        if(node.l is None and node.r is None):\n",
    "            print \"leaf_node\"\n",
    "        print str(node.v) + ' '\n",
    "        \n",
    "        if(node.l is not None):\n",
    "            self._pre_order_traversal(node.l)\n",
    "        if(node.r is not None):\n",
    "            self._pre_order_traversal(node.r)\n",
    "\n",
    "    def post_order_traversal(self):\n",
    "        if(self.root is not None):\n",
    "            self._post_order_traversal(self.root)\n",
    "        else:\n",
    "            print \"empty tree\"\n",
    "\n",
    "    def _post_order_traversal(self, node):        \n",
    "        if(node.l is not None):\n",
    "            self._post_order_traversal(node.l)\n",
    "        if(node.r is not None):\n",
    "            self._post_order_traversal(node.r)\n",
    "        print str(node.v) + ' '\n",
    "        \n",
    "    def in_order_traversal(self):\n",
    "        if(self.root is not None):\n",
    "            self._in_order_traversal(self.root)\n",
    "        else:\n",
    "            print \"empty tree\"\n",
    "\n",
    "    def _in_order_traversal(self, node):       \n",
    "        if(node.l is not None):\n",
    "            self._in_order_traversal(node.l)\n",
    "        print str(node.v) + ' '\n",
    "        if(node.r is not None):\n",
    "            self._in_order_traversal(node.r)\n",
    "        \n",
    "            \n",
    "    def printTree(self):\n",
    "        if(self.root is not None):\n",
    "            self._printTree(self.root)\n",
    "    \n",
    "    def _printTree(self, node):\n",
    "        if(node is not None):\n",
    "            self._printTree(node.l)\n",
    "            print str(node.v) + ' '\n",
    "            self._printTree(node.r)\n",
    "        \n",
    "    def height(self, node):\n",
    "        \n",
    "        if(node is None):\n",
    "            return 0   \n",
    "        return (1 + max(self.height(node.l), self.height(node.r)))\n",
    "                    \n",
    "    def isBalanced(self):\n",
    "        return self._isBalanced(self.root)\n",
    "    \n",
    "    \n",
    "    def _isBalanced(self, node):\n",
    "         \n",
    "        lheight =0\n",
    "        rheight = 0\n",
    "        \n",
    "        if node is None:\n",
    "            return 1\n",
    "        \n",
    "        lheight = self.height(node.l)\n",
    "        rheight = self.height(node.r)\n",
    "        \n",
    "        if(abs(lheight-rheight) <=1 and self._isBalanced(node.l) and self._isBalanced(node.r)):\n",
    "            return 1;\n",
    "        \n",
    "        return 0\n",
    "    \n",
    "    def cloneTree(self, other):\n",
    "            if(self.root is not None):\n",
    "                self._cloneTree(self.root, other.root)\n",
    "            else:\n",
    "                print \"empty tree\"\n",
    "\n",
    "    def _cloneTree(self, node, node_clone):\n",
    "\n",
    "        node_clone = Node(node.v)\n",
    "        self.cloneNode(node, node_clone)\n",
    "        \n",
    "        print str(node.v) + ' '\n",
    "        if(node.l is not None):\n",
    "            node_clone = Node(node.l.v)\n",
    "            self.cloneNode(node, node_clone)\n",
    "            self._cloneTree(node.l, node_clone.l)\n",
    "\n",
    "\n",
    "\n",
    "\n",
    "        if(node.r is not None):\n",
    "            node_clone = Node(node.r.v)\n",
    "            self.cloneNode(node, node_clone)\n",
    "            self._cloneTree(node.r, node_clone.r)\n",
    "\n",
    "    def cloneNode(self, node, node_clone):\n",
    "    #         node_clone.v = node.v\n",
    "        node_clone.l = node.l\n",
    "        node_clone.r = node.r\n",
    "\n",
    "        \n",
    "         \n",
    "    \n",
    "        \n",
    "    \n",
    "    \n",
    "            \n",
    "           "
   ]
  },
  {
   "cell_type": "code",
   "execution_count": null,
   "metadata": {
    "collapsed": true
   },
   "outputs": [],
   "source": []
  },
  {
   "cell_type": "code",
   "execution_count": 339,
   "metadata": {},
   "outputs": [
    {
     "name": "stdout",
     "output_type": "stream",
     "text": [
      "0 \n",
      "2 \n",
      "3 \n",
      "4 \n",
      "8 \n",
      "None\n",
      "Balanced Tree:  1\n",
      "cloning the tree\n",
      "3 \n",
      "0 \n",
      "2 \n",
      "4 \n",
      "8 \n"
     ]
    }
   ],
   "source": [
    "tree = Tree()\n",
    "tree.add(3)\n",
    "tree.add(4)\n",
    "tree.add(0)\n",
    "tree.add(8)\n",
    "tree.add(2)\n",
    "\n",
    "cloneTree = Tree()\n",
    "\n",
    "\n",
    "\n",
    "\n",
    "print tree.printTree()\n",
    "print \"Balanced Tree: \", tree.isBalanced()\n",
    "\n",
    "print \"cloning the tree\" \n",
    "tree.cloneTree(cloneTree)\n",
    "cloneTree.printTree()\n",
    "# print (\"pre\")\n",
    "# tree.pre_order_traversal()\n",
    "# print(\"in\")\n",
    "# tree.in_order_traversal()\n",
    "# print(\"post\")\n",
    "# tree.post_order_traversal()"
   ]
  },
  {
   "cell_type": "code",
   "execution_count": 66,
   "metadata": {
    "collapsed": true
   },
   "outputs": [],
   "source": []
  },
  {
   "cell_type": "code",
   "execution_count": 67,
   "metadata": {},
   "outputs": [
    {
     "name": "stdout",
     "output_type": "stream",
     "text": [
      "0 \n",
      "2 \n",
      "3 \n",
      "4 \n",
      "8 \n"
     ]
    }
   ],
   "source": [
    "# tree.find(8)\n",
    "tree.printTree()"
   ]
  },
  {
   "cell_type": "code",
   "execution_count": null,
   "metadata": {
    "collapsed": true
   },
   "outputs": [],
   "source": []
  },
  {
   "cell_type": "code",
   "execution_count": 27,
   "metadata": {},
   "outputs": [
    {
     "data": {
      "text/plain": [
       "<__main__.Node instance at 0x106bf8fc8>"
      ]
     },
     "execution_count": 27,
     "metadata": {},
     "output_type": "execute_result"
    }
   ],
   "source": [
    "tree.find(0)"
   ]
  },
  {
   "cell_type": "code",
   "execution_count": 87,
   "metadata": {},
   "outputs": [
    {
     "name": "stdout",
     "output_type": "stream",
     "text": [
      "[1, 2, 3, 4, 5, 6, 7]\n",
      "[1, 2, 3, 4, 5, 6]\n",
      "3 removed\n",
      "[1, 2, 4, 5, 6]\n",
      "count : 1\n"
     ]
    }
   ],
   "source": [
    "alist = [1,2,3,4,5,6,7]\n",
    "print alist \n",
    "alist.pop()\n",
    "print alist\n",
    "out = alist.pop(2)\n",
    "print out , \"removed\"\n",
    "print alist\n",
    "blist = alist.reverse()\n",
    "alist.index(4)\n",
    "print \"count :\", alist.count(2)"
   ]
  },
  {
   "cell_type": "code",
   "execution_count": 94,
   "metadata": {},
   "outputs": [
    {
     "name": "stdout",
     "output_type": "stream",
     "text": [
      "David\n",
      "DavidDavidDavid\n"
     ]
    },
    {
     "data": {
      "text/plain": [
       "['Da', 'id']"
      ]
     },
     "execution_count": 94,
     "metadata": {},
     "output_type": "execute_result"
    }
   ],
   "source": [
    "myname = \"David\"\n",
    "myname1 = myname *3\n",
    "print myname \n",
    "print myname1\n",
    "myname.find('v')\n",
    "\n",
    "myname.split('v')"
   ]
  },
  {
   "cell_type": "code",
   "execution_count": 110,
   "metadata": {},
   "outputs": [
    {
     "name": "stdout",
     "output_type": "stream",
     "text": [
      "set(['a', 'i', 'd', 'v'])\n",
      "set(['a', 'i', 'r', 'm', 'd'])\n",
      "set(['a', 'd', 'i', 'm', 'r', 'v'])\n",
      "set(['a', 'd', 'i', 'm', 'r', 'v'])\n",
      "set(['a', 'i', 'd'])\n",
      "set(['r', 'm'])\n"
     ]
    }
   ],
   "source": [
    "name1 = \"david\"\n",
    "name2 = \"mariad\"\n",
    "\n",
    "name1_set = set(name1)\n",
    "name2_set = set(name2)\n",
    "\n",
    "print name1_set\n",
    "print name2_set\n",
    "\n",
    "print name1_set | name2_set\n",
    "print name1_set.union(name2_set)\n",
    "print name1_set.intersection(name2_set)\n",
    "print name2_set.difference(name1_set)"
   ]
  },
  {
   "cell_type": "code",
   "execution_count": 125,
   "metadata": {},
   "outputs": [
    {
     "name": "stdout",
     "output_type": "stream",
     "text": [
      "['value_4', 'value_1', 'value_0', 'value_3', 'value_2']\n",
      "['value_4', 'value_1', 'value_0', 'value_3', 'value_2']\n",
      "key2\n"
     ]
    }
   ],
   "source": [
    "dict1 = {}\n",
    "\n",
    "for i in range(5):\n",
    "    dict1[\"key_\" + str(i)] = \"value_\" + str(i)\n",
    "    \n",
    "# print dict1\n",
    "\n",
    "# keys = dict1.keys()\n",
    "# print keys\n",
    "\n",
    "print [value for value in dict1.values()]\n",
    "print [dict1[key] for key in dict1.keys()]\n",
    "\n",
    "dict1.get(\"key_1\")\n",
    "print dict1.get(\"key___3\", \"key2\")"
   ]
  },
  {
   "cell_type": "code",
   "execution_count": 135,
   "metadata": {},
   "outputs": [
    {
     "name": "stdout",
     "output_type": "stream",
     "text": [
      "('', 0)\n",
      "('*', 1)\n",
      "('****', 4)\n",
      "('*********', 9)\n",
      "('****************', 16)\n"
     ]
    }
   ],
   "source": [
    "for item in range(5):\n",
    "    print(\"*\"*(item**2 ), (item**2))"
   ]
  },
  {
   "cell_type": "code",
   "execution_count": 140,
   "metadata": {},
   "outputs": [
    {
     "data": {
      "text/plain": [
       "['C', 'M', 'P', 'R', 'H', 'N', 'S', 'N']"
      ]
     },
     "execution_count": 140,
     "metadata": {},
     "output_type": "execute_result"
    }
   ],
   "source": [
    " [x*x for x in range(1,11) if x%2 ==0]\n",
    "[ch.upper() for ch in 'comprehension' if ch not in 'aeiou']"
   ]
  },
  {
   "cell_type": "code",
   "execution_count": 2,
   "metadata": {},
   "outputs": [
    {
     "name": "stdout",
     "output_type": "stream",
     "text": [
      "bad value for square root\n",
      "Using absolute value instead\n",
      "3.16227766017\n"
     ]
    }
   ],
   "source": [
    "import math \n",
    "\n",
    "anumber = -10\n",
    "try:\n",
    "    print(math,sqrt(anumber))\n",
    "except:\n",
    "    print (\"bad value for square root\")\n",
    "    print (\"Using absolute value instead\")\n",
    "    print (math.sqrt(abs(anumber)))\n"
   ]
  },
  {
   "cell_type": "code",
   "execution_count": 9,
   "metadata": {},
   "outputs": [
    {
     "name": "stdout",
     "output_type": "stream",
     "text": [
      "157.25\n",
      "80.612281399\n",
      "44.1827212227\n",
      "29.1642613144\n",
      "25.2973000432\n",
      "25.0017469713\n",
      "25.000000061\n",
      "25.0\n",
      "25.0\n",
      "25.0\n"
     ]
    },
    {
     "data": {
      "text/plain": [
       "25.0"
      ]
     },
     "execution_count": 9,
     "metadata": {},
     "output_type": "execute_result"
    }
   ],
   "source": [
    "def square_root(n):\n",
    "    root = n/2. \n",
    "    \n",
    "    for k in range(10):\n",
    "        root = (1/2.)* (root + (n/root))\n",
    "        print root\n",
    "    return root\n",
    "\n",
    "square_root(625)"
   ]
  },
  {
   "cell_type": "code",
   "execution_count": 101,
   "metadata": {},
   "outputs": [
    {
     "name": "stdout",
     "output_type": "stream",
     "text": [
      "rnd [  0.96966494  13.26235902  12.27533399  12.60553653  16.2048616\n",
      "  10.28268761  13.9060609    3.83156098  13.24179073   4.897839\n",
      "  16.90527202  10.97318779   6.66366019  10.93270393  12.59327404\n",
      "   7.67999373  15.19475839]\n",
      "0\n",
      "1\n",
      "2\n",
      "3\n",
      "4\n",
      "5\n",
      "6\n",
      "7\n",
      "8\n",
      "9\n",
      "10\n",
      "11\n",
      "12\n",
      "13\n",
      "14\n",
      "15\n",
      "16\n",
      "rnd [  8.88057515  22.88699417  15.56886666  19.06810122  26.55404234\n",
      "  26.15779981  11.69824627  21.84329263  18.20649531   1.58868264\n",
      "   7.67046423   4.77092057  20.8706863    1.87384462  22.27989124\n",
      "  25.38863168   1.02355684  23.96358114  20.82747606   1.69837265\n",
      "  23.45858682   7.08029759  21.03746334   2.3976368   14.63520475\n",
      "   0.99716256  22.97231298]\n",
      "0\n",
      "1\n",
      "2\n",
      "3\n",
      "4\n"
     ]
    },
    {
     "ename": "IndexError",
     "evalue": "string index out of range",
     "output_type": "error",
     "traceback": [
      "\u001b[0;31m---------------------------------------------------------------------------\u001b[0m",
      "\u001b[0;31mIndexError\u001b[0m                                Traceback (most recent call last)",
      "\u001b[0;32m<ipython-input-101-84755e7ca714>\u001b[0m in \u001b[0;36m<module>\u001b[0;34m()\u001b[0m\n\u001b[1;32m     44\u001b[0m         \u001b[0;32mprint\u001b[0m \u001b[0mcounter\u001b[0m\u001b[0;34m,\u001b[0m \u001b[0mscore\u001b[0m\u001b[0;34m(\u001b[0m\u001b[0mgoalstring\u001b[0m\u001b[0;34m,\u001b[0m \u001b[0mgenerator\u001b[0m\u001b[0;34m(\u001b[0m\u001b[0mlen\u001b[0m\u001b[0;34m(\u001b[0m\u001b[0mgoalstring\u001b[0m\u001b[0;34m)\u001b[0m\u001b[0;34m)\u001b[0m\u001b[0;34m)\u001b[0m\u001b[0;34m\u001b[0m\u001b[0m\n\u001b[1;32m     45\u001b[0m \u001b[0;34m\u001b[0m\u001b[0m\n\u001b[0;32m---> 46\u001b[0;31m \u001b[0mmain\u001b[0m\u001b[0;34m(\u001b[0m\u001b[0;34m)\u001b[0m\u001b[0;34m\u001b[0m\u001b[0m\n\u001b[0m",
      "\u001b[0;32m<ipython-input-101-84755e7ca714>\u001b[0m in \u001b[0;36mmain\u001b[0;34m()\u001b[0m\n\u001b[1;32m     40\u001b[0m     \u001b[0mgoalstring\u001b[0m \u001b[0;34m=\u001b[0m \u001b[0;34m\"methink it is like a weasel\"\u001b[0m\u001b[0;34m\u001b[0m\u001b[0m\n\u001b[1;32m     41\u001b[0m     \u001b[0mcounter\u001b[0m \u001b[0;34m=\u001b[0m \u001b[0;36m0\u001b[0m\u001b[0;34m\u001b[0m\u001b[0m\n\u001b[0;32m---> 42\u001b[0;31m     \u001b[0;32mwhile\u001b[0m \u001b[0mscore\u001b[0m\u001b[0;34m(\u001b[0m\u001b[0mgoalstring\u001b[0m\u001b[0;34m,\u001b[0m \u001b[0mgenerator\u001b[0m\u001b[0;34m(\u001b[0m\u001b[0mlen\u001b[0m\u001b[0;34m(\u001b[0m\u001b[0mgoalstring\u001b[0m\u001b[0;34m)\u001b[0m\u001b[0;34m)\u001b[0m\u001b[0;34m)\u001b[0m \u001b[0;34m<\u001b[0m \u001b[0;36m1.\u001b[0m \u001b[0;34m:\u001b[0m\u001b[0;34m\u001b[0m\u001b[0m\n\u001b[0m\u001b[1;32m     43\u001b[0m         \u001b[0mcounter\u001b[0m \u001b[0;34m=\u001b[0m \u001b[0mcounter\u001b[0m \u001b[0;34m+\u001b[0m \u001b[0;36m1\u001b[0m\u001b[0;34m\u001b[0m\u001b[0m\n\u001b[1;32m     44\u001b[0m         \u001b[0;32mprint\u001b[0m \u001b[0mcounter\u001b[0m\u001b[0;34m,\u001b[0m \u001b[0mscore\u001b[0m\u001b[0;34m(\u001b[0m\u001b[0mgoalstring\u001b[0m\u001b[0;34m,\u001b[0m \u001b[0mgenerator\u001b[0m\u001b[0;34m(\u001b[0m\u001b[0mlen\u001b[0m\u001b[0;34m(\u001b[0m\u001b[0mgoalstring\u001b[0m\u001b[0;34m)\u001b[0m\u001b[0;34m)\u001b[0m\u001b[0;34m)\u001b[0m\u001b[0;34m\u001b[0m\u001b[0m\n",
      "\u001b[0;32m<ipython-input-101-84755e7ca714>\u001b[0m in \u001b[0;36mgenerator\u001b[0;34m(strlen)\u001b[0m\n\u001b[1;32m     15\u001b[0m \u001b[0;34m\u001b[0m\u001b[0m\n\u001b[1;32m     16\u001b[0m \u001b[0;31m#         print index\u001b[0m\u001b[0;34m\u001b[0m\u001b[0;34m\u001b[0m\u001b[0m\n\u001b[0;32m---> 17\u001b[0;31m         \u001b[0mres\u001b[0m \u001b[0;34m=\u001b[0m \u001b[0mres\u001b[0m \u001b[0;34m+\u001b[0m \u001b[0mletters\u001b[0m\u001b[0;34m[\u001b[0m\u001b[0mindex\u001b[0m\u001b[0;34m]\u001b[0m\u001b[0;34m\u001b[0m\u001b[0m\n\u001b[0m\u001b[1;32m     18\u001b[0m \u001b[0;31m#         print letters[int(rnd[i])]\u001b[0m\u001b[0;34m\u001b[0m\u001b[0;34m\u001b[0m\u001b[0m\n\u001b[1;32m     19\u001b[0m \u001b[0;31m#     print res\u001b[0m\u001b[0;34m\u001b[0m\u001b[0;34m\u001b[0m\u001b[0m\n",
      "\u001b[0;31mIndexError\u001b[0m: string index out of range"
     ]
    }
   ],
   "source": [
    "import random\n",
    "import numpy as np\n",
    "\n",
    "\n",
    "letters = \"abcdefghijklmopqrstuvwxyz \"\n",
    "\n",
    "def generator(strlen):\n",
    "    \n",
    "    res = \"\"\n",
    "    rnd = np.random.random((strlen)) * (strlen)\n",
    "    print \"rnd\", rnd\n",
    "    for i in range(strlen):\n",
    "        print i\n",
    "        index = min(int(rnd[i]), (strlen))\n",
    "        \n",
    "#         print index\n",
    "        res = res + letters[index]\n",
    "#         print letters[int(rnd[i])]\n",
    "#     print res\n",
    "    return res\n",
    "        \n",
    "generator(17)\n",
    "\n",
    "def score(goal, testString):\n",
    "    numSame = 0\n",
    "#     print \"len(goal\", len(goal)\n",
    "    for i in range(len(goal)):\n",
    "#         print i\n",
    "        if(goal[i] ==  testString[i]):\n",
    "#             print goal[i], testString[i]\n",
    "            numSame = numSame + 1\n",
    "    \n",
    "    return numSame * 1. / len(goal)\n",
    "# test_string = \"mehings it is like\"\n",
    "# print (score(test_string, generator(len(test_string))))\n",
    "        \n",
    "\n",
    "def main():\n",
    "    \n",
    "    goalstring = \"methink it is like a weasel\"\n",
    "    counter = 0 \n",
    "    while score(goalstring, generator(len(goalstring))) < 1. :\n",
    "        counter = counter + 1 \n",
    "        print counter, score(goalstring, generator(len(goalstring)))\n",
    "    \n",
    "main()"
   ]
  },
  {
   "cell_type": "code",
   "execution_count": 134,
   "metadata": {},
   "outputs": [
    {
     "name": "stdout",
     "output_type": "stream",
     "text": [
      "0.6\n",
      "0.25\n",
      "False\n"
     ]
    }
   ],
   "source": [
    "def gcd(m,n):\n",
    "\n",
    "    while m%n !=0:\n",
    "        oldm = m \n",
    "        oldn = n\n",
    "\n",
    "        m = oldn\n",
    "        n = oldm%oldn\n",
    "    return n \n",
    "        \n",
    "class Fraction:\n",
    "    \n",
    "    def __init__(self, num, den):\n",
    "        \n",
    "        self.num = num \n",
    "        self.den = den\n",
    "    \n",
    "    def evaluate(self):\n",
    "        return (self.num *1./ self.den)\n",
    "    \n",
    "    def print_fraction(self):\n",
    "        print self.evaluate()\n",
    "    \n",
    "\n",
    "    def __str__(self):\n",
    "        return str(self.num) + \"/\" + str(self.den)\n",
    "    \n",
    "    def __add__(self, other):\n",
    "        res_num = self.num * other.den + self.den * other.num\n",
    "        res_den = self.den * other.den\n",
    "        gcd_res = gcd(res_num, res_den)\n",
    "        return Fraction(res_num/gcd_res, res_den/gcd_res)\n",
    "    \n",
    "    def __eq__(self, other):\n",
    "        if(self.num == other.num and self.den == other.den):\n",
    "            return True \n",
    "        else:\n",
    "            return False \n",
    "        \n",
    "    def __mul__(self, other):\n",
    "        return Fraction(self.num*other.num, self.den*other.den)\n",
    "    \n",
    "    \n",
    "    def __geq__(self, other):\n",
    "        if(1.*self.num/self.den > 1.* other.num/other.den):\n",
    "            return True \n",
    "        else:\n",
    "            return False\n",
    "\n",
    "\n",
    "    \n",
    "myfraction = Fraction(3,5)\n",
    "myfraction1 = Fraction (5,20)\n",
    "\n",
    "myfraction.print_fraction()\n",
    "myfraction1.print_fraction()\n",
    "\n",
    "myfraction3 = myfraction + myfraction1\n",
    "\n",
    "myfraction4 = Fraction(3,5)\n",
    "\n",
    "print myfraction < myfraction1       "
   ]
  },
  {
   "cell_type": "code",
   "execution_count": 145,
   "metadata": {
    "collapsed": true
   },
   "outputs": [],
   "source": [
    "\n",
    "class LogicGate:\n",
    "    \n",
    "    def __init__(self, n):\n",
    "        self.label = n\n",
    "        self.output = None\n",
    "        \n",
    "    def getLabel(self):\n",
    "        return self.label\n",
    "    \n",
    "    def getOutput(self):\n",
    "        self.output = self.performGateLogic()\n",
    "        return self.output\n",
    "    \n",
    "class BinaryGate(LogicGate):\n",
    "    \n",
    "    def __init__(self,n):\n",
    "        LogicGate.__init__(self, n)\n",
    "        \n",
    "        self.pinA = None\n",
    "        self.pinB = None \n",
    "        \n",
    "    def getPinA(self):\n",
    "        return int(input(\"enter pin A input for gate\" + self.getLabel() + \"-->\"))\n",
    "    \n",
    "    def getPinB(self):\n",
    "        return int(input(\"enter pin B input for gate\" + self.getLabel() + \"-->\"))\n",
    "    \n",
    "\n",
    "class UninaryGate(LogicGate):\n",
    "    \n",
    "    def __init__(self, n):\n",
    "        LogicGate.__init__(self, n)\n",
    "        \n",
    "        self.pin = None\n",
    "    \n",
    "    def getPin(self):\n",
    "        return int(input(\"enter pin B input for gate\" + self.getLabel() + \"-->\"))\n",
    "    \n",
    "class AndGate(BinaryGate):\n",
    "    \n",
    "    def __init__(self, n):\n",
    "        BinaryGate.__init__(self, n)\n",
    "        \n",
    "    def performGateLogic(self):\n",
    "        \n",
    "        a = self.getPinA()\n",
    "        b = self.getPinB()\n",
    "        \n",
    "        if a ==1 and b == 1:\n",
    "            return 1\n",
    "        \n",
    "        else:\n",
    "            return 0\n",
    "    \n",
    "    "
   ]
  },
  {
   "cell_type": "code",
   "execution_count": 149,
   "metadata": {},
   "outputs": [
    {
     "name": "stdout",
     "output_type": "stream",
     "text": [
      "enter pin A input for gateG1-->1\n",
      "enter pin B input for gateG1-->1\n"
     ]
    },
    {
     "data": {
      "text/plain": [
       "1"
      ]
     },
     "execution_count": 149,
     "metadata": {},
     "output_type": "execute_result"
    }
   ],
   "source": [
    "g1 = AndGate(\"G1\")\n",
    "\n",
    "g1.getOutput()\n"
   ]
  },
  {
   "cell_type": "code",
   "execution_count": 176,
   "metadata": {},
   "outputs": [
    {
     "name": "stdout",
     "output_type": "stream",
     "text": [
      "39\n",
      "elapsedTime (Complexity O(n2): 0.0469660758972\n",
      "39\n",
      "elapsedTime (Complexity Olog(n)): 0.000488042831421\n",
      "65\n",
      "elapsedTime (Complexity O(n2): 0.145790100098\n",
      "65\n",
      "elapsedTime (Complexity Olog(n)): 0.00047492980957\n",
      "12\n",
      "elapsedTime (Complexity O(n2): 0.344728946686\n",
      "12\n",
      "elapsedTime (Complexity Olog(n)): 0.000826835632324\n",
      "17\n",
      "elapsedTime (Complexity O(n2): 0.648497104645\n",
      "17\n",
      "elapsedTime (Complexity Olog(n)): 0.00125908851624\n",
      "8\n",
      "elapsedTime (Complexity O(n2): 1.04436588287\n",
      "8\n",
      "elapsedTime (Complexity Olog(n)): 0.00208497047424\n",
      "13\n",
      "elapsedTime (Complexity O(n2): 1.63479495049\n",
      "13\n",
      "elapsedTime (Complexity Olog(n)): 0.00181078910828\n",
      "0\n",
      "elapsedTime (Complexity O(n2): 2.10315704346\n",
      "0\n",
      "elapsedTime (Complexity Olog(n)): 0.00191187858582\n",
      "29\n",
      "elapsedTime (Complexity O(n2): 2.9422109127\n",
      "29\n",
      "elapsedTime (Complexity Olog(n)): 0.00259804725647\n",
      "2\n",
      "elapsedTime (Complexity O(n2): 3.25501704216\n",
      "2\n",
      "elapsedTime (Complexity Olog(n)): 0.00253582000732\n",
      "5\n",
      "elapsedTime (Complexity O(n2): 4.39749717712\n",
      "5\n",
      "elapsedTime (Complexity Olog(n)): 0.00296807289124\n"
     ]
    }
   ],
   "source": [
    "import time \n",
    "from random import randrange\n",
    "list1 = [23,4,89,4,56,1,2,13,46]\n",
    "\n",
    "\n",
    "def findMin(alist):\n",
    "    min = 0xffffff\n",
    "    for i in range(len(alist)):\n",
    "        for j in (range(i+1, len(alist))):\n",
    "            if(alist[j] < min ):\n",
    "                min = alist[i]\n",
    "    return min\n",
    "\n",
    "def findMin_n(alist):\n",
    "    alist.sort()\n",
    "    return alist[0]\n",
    "\n",
    "for listSize in range(1000,10001,1000):\n",
    "    alist = [randrange(100000) for x in range(listSize)]\n",
    "    start = time.time()\n",
    "    print (findMin(alist))    \n",
    "    end = time.time()\n",
    "    print \"elapsedTime (Complexity O(n2):\",(end-start)\n",
    "\n",
    "    start = time.time()\n",
    "    print (findMin_n(alist))    \n",
    "    end = time.time()\n",
    "    print \"elapsedTime (Complexity Olog(n)):\",(end-start)\n",
    "\n",
    "    \n",
    "# print findMin(list1)\n",
    "# print findMin_n(list1)\n",
    "\n",
    "\n"
   ]
  },
  {
   "cell_type": "code",
   "execution_count": 224,
   "metadata": {},
   "outputs": [
    {
     "data": {
      "text/plain": [
       "False"
      ]
     },
     "execution_count": 224,
     "metadata": {},
     "output_type": "execute_result"
    }
   ],
   "source": [
    "def anagramSolution(s1, s2):\n",
    "\n",
    "    s1 = list(s1)\n",
    "    s2 = list(s2)\n",
    "    # sort both arrays \n",
    "    s1.sort()\n",
    "    s2.sort()\n",
    "    \n",
    "\n",
    "#     create unique set     \n",
    "    alist1 = set(s1)\n",
    "    alist2 = set(s2)\n",
    "\n",
    "#     print alist1\n",
    "#     print alist2\n",
    "#     list1_size = len(alist1)\n",
    "    list2_size = len(alist2)\n",
    "    \n",
    "\n",
    "    \n",
    "#     print list1_size\n",
    "#     print list2_size \n",
    "    \n",
    "    alist1 = list(alist1)\n",
    "    alist2 = list(alist2)\n",
    "    \n",
    "    stillOK = True \n",
    "    if(len(alist1) != len(alist2)):\n",
    "        return False\n",
    "    else:\n",
    "        i =0\n",
    "#         print i, stillOK\n",
    "#         print list1_size\n",
    "        while i < list1_size and stillOK is True:\n",
    "            print alist1[i], alist2[i]\n",
    "            \n",
    "            if (alist1[i] != alist2[i]):\n",
    "                stillOK = False\n",
    "                break\n",
    "            i+=1 \n",
    "    \n",
    "    return stillOK\n",
    "\n",
    "\n",
    "\n",
    "            \n",
    "anagramSolution(\"star\", \"ratsi\")        \n",
    "        "
   ]
  },
  {
   "cell_type": "code",
   "execution_count": 251,
   "metadata": {},
   "outputs": [
    {
     "name": "stdout",
     "output_type": "stream",
     "text": [
      "0.0\n"
     ]
    }
   ],
   "source": [
    "import numpy as np \n",
    "\n",
    "def anagramSolution(s1, s2):\n",
    "#     s1 = list(s1)\n",
    "#     s2 = list(s2)\n",
    "    pos1 = np.zeros((26,1))\n",
    "    pos2 = np.zeros((26,1)) \n",
    "    \n",
    "    for i in range(len(s1)):\n",
    "        pos1[ord(s1[i])-ord('a')] +=1 # O(n)\n",
    "        \n",
    "    for i in range(len(s2)):\n",
    "        pos2[ord(s2[i])-ord('a')] +=1 # O(n)\n",
    "    \n",
    "#     print pos1, pos2\n",
    "    \n",
    "    return np.sum((pos1 - pos2)) # (O(26))\n",
    "\n",
    "# Total O(n) + O(n) + O(26) ~ O(n)\n",
    "print anagramSolution(\"star\", \"rats\")"
   ]
  },
  {
   "cell_type": "code",
   "execution_count": 259,
   "metadata": {},
   "outputs": [
    {
     "name": "stdout",
     "output_type": "stream",
     "text": [
      "('concat ', 1.3181321620941162, 'milliseconds')\n",
      "('concat ', 0.09084486961364746, 'milliseconds')\n",
      "('concat ', 0.044989824295043945, 'milliseconds')\n",
      "('concat ', 0.01042485237121582, 'milliseconds')\n"
     ]
    }
   ],
   "source": [
    "from timeit import Timer\n",
    "_SIZE = 1000\n",
    "def test1():\n",
    "    l = []\n",
    "    for i in range(_SIZE):\n",
    "        l = l + [i]\n",
    "\n",
    "def test2():\n",
    "    l = []\n",
    "    for i in range(_SIZE):\n",
    "        l.append(i)\n",
    "        \n",
    "def test3():\n",
    "    l = []\n",
    "    l = [i for i in range(_SIZE)]\n",
    "\n",
    "def test4():\n",
    "    l = list(range(_SIZE))\n",
    "    \n",
    "# test timing \n",
    "\n",
    "t1= Timer(\"test1()\", \"from __main__ import test1\")\n",
    "print (\"concat \", t1.timeit(number=1000), \"milliseconds\")\n",
    "\n",
    "t2 = Timer(\"test2()\", \"from __main__ import test2\")\n",
    "print (\"concat \", t2.timeit(number=1000), \"milliseconds\")\n",
    "\n",
    "t3 = Timer(\"test3()\", \"from __main__ import test3\")\n",
    "print (\"concat \", t3.timeit(number=1000), \"milliseconds\")\n",
    "\n",
    "t4 = Timer(\"test4()\", \"from __main__ import test4\")\n",
    "print (\"concat \", t4.timeit(number=1000), \"milliseconds\")\n"
   ]
  },
  {
   "cell_type": "code",
   "execution_count": 273,
   "metadata": {},
   "outputs": [
    {
     "name": "stdout",
     "output_type": "stream",
     "text": [
      "('concat ', 0.0035140514373779297, 'milliseconds')\n"
     ]
    },
    {
     "ename": "IndexError",
     "evalue": "pop from empty list",
     "output_type": "error",
     "traceback": [
      "\u001b[0;31m---------------------------------------------------------------------------\u001b[0m",
      "\u001b[0;31mIndexError\u001b[0m                                Traceback (most recent call last)",
      "\u001b[0;32m<ipython-input-273-34a722684458>\u001b[0m in \u001b[0;36m<module>\u001b[0;34m()\u001b[0m\n\u001b[1;32m     13\u001b[0m \u001b[0;34m\u001b[0m\u001b[0m\n\u001b[1;32m     14\u001b[0m \u001b[0mt2\u001b[0m \u001b[0;34m=\u001b[0m \u001b[0mTimer\u001b[0m\u001b[0;34m(\u001b[0m\u001b[0;34m\"test2()\"\u001b[0m\u001b[0;34m,\u001b[0m \u001b[0;34m\"from __main__ import test2\"\u001b[0m\u001b[0;34m)\u001b[0m\u001b[0;34m\u001b[0m\u001b[0m\n\u001b[0;32m---> 15\u001b[0;31m \u001b[0;32mprint\u001b[0m \u001b[0;34m(\u001b[0m\u001b[0;34m\"concat \"\u001b[0m\u001b[0;34m,\u001b[0m \u001b[0mt2\u001b[0m\u001b[0;34m.\u001b[0m\u001b[0mtimeit\u001b[0m\u001b[0;34m(\u001b[0m\u001b[0mnumber\u001b[0m\u001b[0;34m=\u001b[0m\u001b[0;36m10000\u001b[0m\u001b[0;34m)\u001b[0m\u001b[0;34m,\u001b[0m \u001b[0;34m\"milliseconds\"\u001b[0m\u001b[0;34m)\u001b[0m\u001b[0;34m\u001b[0m\u001b[0m\n\u001b[0m",
      "\u001b[0;32m/Users/sudhakar/anaconda2/lib/python2.7/timeit.pyc\u001b[0m in \u001b[0;36mtimeit\u001b[0;34m(self, number)\u001b[0m\n\u001b[1;32m    200\u001b[0m         \u001b[0mgc\u001b[0m\u001b[0;34m.\u001b[0m\u001b[0mdisable\u001b[0m\u001b[0;34m(\u001b[0m\u001b[0;34m)\u001b[0m\u001b[0;34m\u001b[0m\u001b[0m\n\u001b[1;32m    201\u001b[0m         \u001b[0;32mtry\u001b[0m\u001b[0;34m:\u001b[0m\u001b[0;34m\u001b[0m\u001b[0m\n\u001b[0;32m--> 202\u001b[0;31m             \u001b[0mtiming\u001b[0m \u001b[0;34m=\u001b[0m \u001b[0mself\u001b[0m\u001b[0;34m.\u001b[0m\u001b[0minner\u001b[0m\u001b[0;34m(\u001b[0m\u001b[0mit\u001b[0m\u001b[0;34m,\u001b[0m \u001b[0mself\u001b[0m\u001b[0;34m.\u001b[0m\u001b[0mtimer\u001b[0m\u001b[0;34m)\u001b[0m\u001b[0;34m\u001b[0m\u001b[0m\n\u001b[0m\u001b[1;32m    203\u001b[0m         \u001b[0;32mfinally\u001b[0m\u001b[0;34m:\u001b[0m\u001b[0;34m\u001b[0m\u001b[0m\n\u001b[1;32m    204\u001b[0m             \u001b[0;32mif\u001b[0m \u001b[0mgcold\u001b[0m\u001b[0;34m:\u001b[0m\u001b[0;34m\u001b[0m\u001b[0m\n",
      "\u001b[0;32m/Users/sudhakar/anaconda2/lib/python2.7/timeit.pyc\u001b[0m in \u001b[0;36minner\u001b[0;34m(_it, _timer)\u001b[0m\n",
      "\u001b[0;32m<ipython-input-273-34a722684458>\u001b[0m in \u001b[0;36mtest2\u001b[0;34m()\u001b[0m\n\u001b[1;32m      7\u001b[0m \u001b[0;34m\u001b[0m\u001b[0m\n\u001b[1;32m      8\u001b[0m \u001b[0;32mdef\u001b[0m \u001b[0mtest2\u001b[0m\u001b[0;34m(\u001b[0m\u001b[0;34m)\u001b[0m\u001b[0;34m:\u001b[0m\u001b[0;34m\u001b[0m\u001b[0m\n\u001b[0;32m----> 9\u001b[0;31m     \u001b[0ml1\u001b[0m\u001b[0;34m.\u001b[0m\u001b[0mpop\u001b[0m\u001b[0;34m(\u001b[0m\u001b[0;36m0\u001b[0m\u001b[0;34m)\u001b[0m\u001b[0;34m\u001b[0m\u001b[0m\n\u001b[0m\u001b[1;32m     10\u001b[0m \u001b[0;34m\u001b[0m\u001b[0m\n\u001b[1;32m     11\u001b[0m \u001b[0mt1\u001b[0m\u001b[0;34m=\u001b[0m \u001b[0mTimer\u001b[0m\u001b[0;34m(\u001b[0m\u001b[0;34m\"test1()\"\u001b[0m\u001b[0;34m,\u001b[0m \u001b[0;34m\"from __main__ import test1\"\u001b[0m\u001b[0;34m)\u001b[0m\u001b[0;34m\u001b[0m\u001b[0m\n",
      "\u001b[0;31mIndexError\u001b[0m: pop from empty list"
     ]
    }
   ],
   "source": [
    "\n",
    "l1 = []\n",
    "l1 = [i for i in range(10000)]\n",
    "    \n",
    "def test1():\n",
    "    l1.pop()\n",
    "\n",
    "def test2():\n",
    "    l1.pop(0)\n",
    "    \n",
    "t1= Timer(\"test1()\", \"from __main__ import test1\")\n",
    "print (\"concat \", t1.timeit(number=10000), \"milliseconds\")\n",
    "\n",
    "t2 = Timer(\"test2()\", \"from __main__ import test2\")\n",
    "print (\"concat \", t2.timeit(number=10000), \"milliseconds\")\n"
   ]
  },
  {
   "cell_type": "code",
   "execution_count": 268,
   "metadata": {
    "collapsed": true
   },
   "outputs": [],
   "source": [
    "\n",
    "\n",
    "class Stack:\n",
    "\n",
    "    def __init__(self):\n",
    "        self.items = []\n",
    "\n",
    "    def isEmpty(self):\n",
    "        return self.items == []\n",
    "\n",
    "    def push(self, item):\n",
    "        self.items.append(item)\n",
    "\n",
    "    def pop(self):\n",
    "        return self.items.pop()\n",
    "\n",
    "    def peek(self):\n",
    "        return self.items[len(self.items)-1]\n",
    "\n",
    "    def size(self):\n",
    "        return len(self.items)\n",
    "    \n",
    "    def display(self):\n",
    "        print self.items\n",
    "\n",
    "    def sortInPlace(self):\n",
    "        if not self.isEmpty():\n",
    "            val = self.pop()\n",
    "            print val\n",
    "            self.sortInPlace()\n",
    "            self.insert_sort(val)\n",
    "            \n",
    "    def insert_sort(self, val):\n",
    "        if self.isEmpty():\n",
    "            self.push(val)\n",
    "            return\n",
    "        if val < self.peek():\n",
    "            top = self.pop()\n",
    "            self.insert_sort(val)\n",
    "            s.push(top)\n",
    "        else:\n",
    "            s.push(val)\n",
    "            \n",
    "            \n",
    "class Stack_bottom:\n",
    "\n",
    "    def __init__(self):\n",
    "        self.items = []\n",
    "\n",
    "    def isEmpty(self):\n",
    "        return self.items == []\n",
    "\n",
    "    def push(self, item):\n",
    "        self.items.insert(0,item)\n",
    "\n",
    "    def pop():\n",
    "        self.items.pop(0)\n",
    "\n",
    "    def peek(self):\n",
    "        return self.items[0]\n",
    "\n",
    "    def size(self):\n",
    "        return len(self.items)\n",
    "\n",
    "    def display(self):\n",
    "        for i in range(self.size()):\n",
    "            self.peek()\n",
    "            \n",
    "    "
   ]
  },
  {
   "cell_type": "code",
   "execution_count": 271,
   "metadata": {},
   "outputs": [
    {
     "name": "stdout",
     "output_type": "stream",
     "text": [
      "5\n",
      "[19, 15, 199, 151, 109]\n",
      "109\n",
      "151\n",
      "199\n",
      "15\n",
      "19\n",
      "[15, 19, 109, 151, 199]\n"
     ]
    }
   ],
   "source": [
    "# Stack sorting \n",
    "s = Stack()\n",
    "s.push(19)\n",
    "s.push(15)\n",
    "s.push(199)\n",
    "s.push(151)\n",
    "s.push(109)\n",
    "\n",
    "print s.size()\n",
    "\n",
    "s.display()\n",
    "s.sortInPlace()\n",
    "s.display()"
   ]
  },
  {
   "cell_type": "code",
   "execution_count": 277,
   "metadata": {},
   "outputs": [
    {
     "name": "stdout",
     "output_type": "stream",
     "text": [
      "it was not a valid combination\n"
     ]
    }
   ],
   "source": [
    "# braces matching function \n",
    "str1 = \"(((A+B)*C)\"\n",
    "\n",
    "pair_list = '{(['\n",
    "pair_list_match = '})]'\n",
    "\n",
    "s = Stack()\n",
    "\n",
    "for ch in str1:\n",
    "    if(ch in '([{'):\n",
    "        s.push(ch)\n",
    "    \n",
    "    if(ch == '])}'):\n",
    "        mb = s.pop()\n",
    "\n",
    "if(s.isEmpty()):\n",
    "    print \"it was a valid combination\"\n",
    "else:\n",
    "    print \"it was not a valid combination\""
   ]
  },
  {
   "cell_type": "code",
   "execution_count": 16,
   "metadata": {},
   "outputs": [
    {
     "name": "stdout",
     "output_type": "stream",
     "text": [
      "['a', 1, True]\n",
      "3\n",
      "['a', 1]\n",
      "2\n"
     ]
    }
   ],
   "source": [
    "s = Stack()\n",
    "s.push('a')\n",
    "s.push(1)\n",
    "s.push(True)\n",
    "\n",
    "s.display()\n",
    "print s.size()\n",
    "s.pop()\n",
    "s.display()\n",
    "print s.size()\n"
   ]
  },
  {
   "cell_type": "code",
   "execution_count": 43,
   "metadata": {},
   "outputs": [
    {
     "name": "stdout",
     "output_type": "stream",
     "text": [
      "rakahdus\n"
     ]
    }
   ],
   "source": [
    "\n",
    "\n",
    "def revstring(mystring):\n",
    "    s = Stack()\n",
    "    for ch in mystring:\n",
    "        s.push(ch)\n",
    "\n",
    "    revstr = '' \n",
    "    while not s.isEmpty():\n",
    "        revstr = revstr+ s.pop()\n",
    "    \n",
    "    return revstr\n",
    "    \n",
    "revstring = revstring(\"sudhakar\")\n",
    "print revstring"
   ]
  },
  {
   "cell_type": "code",
   "execution_count": 48,
   "metadata": {},
   "outputs": [
    {
     "name": "stdout",
     "output_type": "stream",
     "text": [
      "False\n"
     ]
    }
   ],
   "source": [
    "def parChecker(symbolString):\n",
    "    \n",
    "    s = Stack()\n",
    "    balanced = True \n",
    "    index = 0\n",
    "    while index < len(symbolString) and balanced:\n",
    "        symbol = symbolString[index]\n",
    "        if(symbol == \"(\"):\n",
    "            s.push(symbol)\n",
    "        else:\n",
    "            if s.isEmpty():\n",
    "                balanced = False\n",
    "            else:\n",
    "                s.pop()\n",
    "        index = index + 1\n",
    "        \n",
    "    if(balanced and s.isEmpty()):\n",
    "        return True\n",
    "    else:\n",
    "        return False \n",
    "    \n",
    "print parChecker('(((()))))')\n",
    "\n",
    "        \n",
    "        "
   ]
  },
  {
   "cell_type": "code",
   "execution_count": 76,
   "metadata": {},
   "outputs": [
    {
     "name": "stdout",
     "output_type": "stream",
     "text": [
      "False\n"
     ]
    }
   ],
   "source": [
    "def checkPar(top , symbol):    \n",
    "    opens = '([{'\n",
    "    closes = ')]}'\n",
    "    return opens.index(top) == closes.index(symbol)\n",
    "    \n",
    "\n",
    "def parCheckerComplex(symbolString):\n",
    "    \n",
    "    s = Stack()\n",
    "    balanced = True \n",
    "    index = 0\n",
    "    while index < len(symbolString) and balanced:\n",
    "        symbol = symbolString[index]\n",
    "        if symbol in '([{':\n",
    "            s.push(symbol)\n",
    "        else:\n",
    "            if s.isEmpty():\n",
    "                balanced = False\n",
    "            else:\n",
    "#                 print \"here1\"\n",
    "                top = s.pop()\n",
    "                \n",
    "                if(checkPar(top, symbol)):\n",
    "                    balanced = True \n",
    "                else:\n",
    "                    balanced = False\n",
    "                \n",
    "        index = index + 1\n",
    "        \n",
    "    if(balanced and s.isEmpty()):\n",
    "        return True\n",
    "    else:\n",
    "        return False \n",
    "    \n",
    "print parCheckerComplex('{{({[][])}}}')\n",
    "    \n",
    "    "
   ]
  },
  {
   "cell_type": "code",
   "execution_count": 87,
   "metadata": {},
   "outputs": [
    {
     "name": "stdout",
     "output_type": "stream",
     "text": [
      "110111\n"
     ]
    }
   ],
   "source": [
    "def decimalToBinaryConversion(decNum):\n",
    "\n",
    "    s = Stack()\n",
    "    binaryStr = \"\" \n",
    "\n",
    "    while decNum > 0:\n",
    "        rem = decNum %2 \n",
    "        decNum = decNum/2\n",
    "        s.push(rem) \n",
    "        \n",
    "    while not s.isEmpty():\n",
    "        binaryStr = binaryStr + str(s.pop())\n",
    "    return int(binaryStr) \n",
    "        \n",
    "print decimalToBinaryConversion(55)\n",
    "    "
   ]
  },
  {
   "cell_type": "code",
   "execution_count": 105,
   "metadata": {},
   "outputs": [
    {
     "name": "stdout",
     "output_type": "stream",
     "text": [
      "0\n",
      "0\n",
      "1\n",
      "1\n",
      "10\n"
     ]
    }
   ],
   "source": [
    "def numberConversion(decNum, base):\n",
    "    digits = \"0123456789ABCDEF\"\n",
    "    s = Stack()\n",
    "    binaryStr = \"\" \n",
    "\n",
    "    while decNum > 0:\n",
    "        rem = decNum %base\n",
    "        print rem\n",
    "        rem= digits[rem]\n",
    "        print rem\n",
    "        decNum = decNum/base\n",
    "        s.push(rem) \n",
    "        \n",
    "    while not s.isEmpty():\n",
    "        binaryStr = binaryStr + str(s.pop())\n",
    "    return (binaryStr) \n",
    "        \n",
    "print numberConversion(26, 26)\n",
    "    "
   ]
  },
  {
   "cell_type": "code",
   "execution_count": 157,
   "metadata": {},
   "outputs": [
    {
     "name": "stdout",
     "output_type": "stream",
     "text": [
      "this is  A\n",
      "this is  *\n",
      "this is operator  *\n",
      "adding to the empty stack *\n",
      "this is  B\n",
      "this is  +\n",
      "this is operator  +\n",
      "it is not an empty list\n",
      "checking the precedence  +\n",
      "+ *\n",
      "prec True\n",
      "+ is less precedence than *\n",
      "+  is added to output\n",
      "this is  C\n",
      "this is  *\n",
      "this is operator  *\n",
      "it is not an empty list\n",
      "checking the precedence  *\n",
      "* +\n",
      "prec False\n",
      "*  is added to output\n",
      "this is  D\n",
      "print stack\n",
      "['+', '*']\n",
      "['A', 'B', '*', 'C', 'D', '*', '+']\n"
     ]
    }
   ],
   "source": [
    "def isOperator(string):\n",
    "    if string in \"*+/-()\":\n",
    "        \n",
    "        return True \n",
    "    else:\n",
    "        return False \n",
    "\n",
    "def precedence(curr, inStack):   \n",
    "    prec_list = '+-*/'\n",
    "    print curr, inStack\n",
    "#     return true if the current operator precedence is less than in the stack\n",
    "    if prec_list.index(curr) < prec_list.index(inStack):\n",
    "        print \"prec True\"\n",
    "        return True \n",
    "    else:\n",
    "        print \"prec False\"\n",
    "        return False\n",
    "    \n",
    "    \n",
    "def inFixToPostFix(Expr):\n",
    "    \n",
    "    opStack = Stack()\n",
    "    exprList = Expr.split()  \n",
    "    eSize = len(exprList)\n",
    "    outExpr = []\n",
    "    index = 0\n",
    "    while index < eSize:\n",
    "        curr = exprList[index]\n",
    "        print \"this is \", curr\n",
    "        if isOperator(curr):\n",
    "            print \"this is operator \", curr\n",
    "           \n",
    "#             check if it is paranthesis \n",
    "#             if(curr in '('):\n",
    "#                 operandStack.push(curr)\n",
    "            if(opStack.isEmpty()):\n",
    "                print \"adding to the empty stack\", curr\n",
    "                opStack.push(curr)\n",
    "            else:\n",
    "                print \"it is not an empty list\"\n",
    "                print \"checking the precedence \", curr\n",
    "                \n",
    "                \n",
    "                while(precedence(curr, opStack.peek())):\n",
    "                    print curr + \" is less precedence than \" + opStack.peek()                    \n",
    "                    outExpr.append(opStack.pop())\n",
    "                    if(opStack.isEmpty()):\n",
    "                        break;\n",
    "                    print \"ourExpr is :\", outExpr\n",
    "                opStack.push(curr)\n",
    "                print curr, \" is added to output\"\n",
    "        else: # operands         \n",
    "            outExpr.append(curr)\n",
    "                \n",
    "        index = index + 1 \n",
    "    print \"print stack\"\n",
    "    opStack.display()    \n",
    "\n",
    "    while not opStack.isEmpty():\n",
    "        outExpr.append(opStack.pop())\n",
    "    return outExpr\n",
    "#     opStack.display()\n",
    "    \n",
    "\n",
    "outExpr = inFixToPostFix('A * B + C * D')\n",
    "\n",
    "print \"\"\n"
   ]
  },
  {
   "cell_type": "code",
   "execution_count": 55,
   "metadata": {
    "collapsed": true
   },
   "outputs": [],
   "source": [
    "class Queue():\n",
    "\n",
    "    def __init__(self):\n",
    "        self.items = []\n",
    "\n",
    "    def isEmpty(self):\n",
    "        return (len(self.items) ==0) \n",
    "\n",
    "    def enqueue(self, item):\n",
    "        self.items.insert(0, item)\n",
    "\n",
    "    def dequeue(self):\n",
    "        return self.items.pop()\n",
    "\n",
    "    def size(self):\n",
    "        return len(self.items)\n",
    "    \n",
    "    def display(self):\n",
    "        for item in self.items:\n",
    "            print item, \" \"\n",
    "\n",
    "    "
   ]
  },
  {
   "cell_type": "code",
   "execution_count": null,
   "metadata": {
    "collapsed": true
   },
   "outputs": [],
   "source": []
  },
  {
   "cell_type": "code",
   "execution_count": 166,
   "metadata": {},
   "outputs": [
    {
     "name": "stdout",
     "output_type": "stream",
     "text": [
      "sudhakar  \n",
      "True  \n",
      "1  \n",
      "sudhakar  \n",
      "True  \n"
     ]
    }
   ],
   "source": [
    "q = Queue()\n",
    "\n",
    "q.enqueue(1)\n",
    "q.enqueue(True)\n",
    "q.enqueue(\"sudhakar\")\n",
    "q.display()\n",
    "q.dequeue()\n",
    "q.display()"
   ]
  },
  {
   "cell_type": "code",
   "execution_count": 173,
   "metadata": {},
   "outputs": [
    {
     "name": "stdout",
     "output_type": "stream",
     "text": [
      "Brad  \n",
      "Kent  \n",
      "Jane  \n",
      "Susan  \n",
      "David  \n",
      "Bill  \n"
     ]
    },
    {
     "data": {
      "text/plain": [
       "'Susan'"
      ]
     },
     "execution_count": 173,
     "metadata": {},
     "output_type": "execute_result"
    }
   ],
   "source": [
    "def hotPotato(namelist, num):\n",
    "    simqueue = Queue()\n",
    "    \n",
    "    for name in namelist:\n",
    "        simqueue.enqueue(name)\n",
    "    \n",
    "    simqueue.display()\n",
    "    \n",
    "    while simqueue.size() > 1:\n",
    "        for i in range(num):\n",
    "            simqueue.enqueue(simqueue.dequeue())\n",
    "        \n",
    "        simqueue.dequeue()\n",
    "        \n",
    "    return simqueue.dequeue()\n",
    "\n",
    "hotPotato([\"Bill\",\"David\",\"Susan\",\"Jane\",\"Kent\",\"Brad\"],7)"
   ]
  },
  {
   "cell_type": "code",
   "execution_count": 174,
   "metadata": {
    "collapsed": true
   },
   "outputs": [],
   "source": [
    "class Printer:\n",
    "    def __init__(self, ppm):\n",
    "        self.pagerate = ppm \n",
    "        self.currentTask = None \n",
    "        self.timeRemaining = 0 \n",
    "        \n",
    "    def tick(self):\n",
    "        if self.currentTask != None:\n",
    "            self.timeRemaining = self.TimeRen\n",
    "        \n",
    "        \n",
    "        "
   ]
  },
  {
   "cell_type": "code",
   "execution_count": 71,
   "metadata": {
    "collapsed": true
   },
   "outputs": [],
   "source": [
    "class Dequeue:\n",
    "\n",
    "    def __init__(self):\n",
    "        self.items = []\n",
    "\n",
    "    def isEmpty(self):\n",
    "        return self.items == []\n",
    "\n",
    "    def addFront(self, item):\n",
    "        self.items.append(item)\n",
    "\n",
    "    def addRear(self, item):\n",
    "        self.items.insert(0,item)\n",
    "\n",
    "    def removeFront(self):\n",
    "        return self.items.pop()\n",
    "\n",
    "    def removeRear(self):\n",
    "        return self.items.pop(0)\n",
    "\n",
    "    def size(self):\n",
    "        return len(self.items)\n",
    "    \n",
    "    def display(self):\n",
    "        for item in self.items:\n",
    "            print item"
   ]
  },
  {
   "cell_type": "code",
   "execution_count": 184,
   "metadata": {},
   "outputs": [
    {
     "name": "stdout",
     "output_type": "stream",
     "text": [
      "l f\n",
      "False\n",
      "j j\n",
      "a a\n",
      "True\n"
     ]
    }
   ],
   "source": [
    "def Palindrome(word):\n",
    "    dq = Dequeue()\n",
    "\n",
    "    for ch in word:\n",
    "        dq.addRear(ch)\n",
    "\n",
    "    stillOK = True\n",
    "\n",
    "    while dq.size() > 1 and stillOK:\n",
    "\n",
    "        front = dq.removeFront()\n",
    "        rear = dq.removeRear()\n",
    "\n",
    "\n",
    "        if front != rear:\n",
    "            stillOK = False \n",
    "\n",
    "    return stillOK \n",
    "\n",
    "print(Palindrome(\"lsdkjfskf\"))\n",
    "print(Palindrome(\"jahaj\"))\n"
   ]
  },
  {
   "cell_type": "code",
   "execution_count": 296,
   "metadata": {},
   "outputs": [
    {
     "name": "stdout",
     "output_type": "stream",
     "text": [
      "head->54->26->93->17->77->31->None\n"
     ]
    },
    {
     "data": {
      "text/plain": [
       "17"
      ]
     },
     "execution_count": 296,
     "metadata": {},
     "output_type": "execute_result"
    }
   ],
   "source": [
    "class Node:\n",
    "\n",
    "    def __init__(self, initdata):\n",
    "        self.data = initdata\n",
    "        self.next = None\n",
    "\n",
    "    def getData(self):\n",
    "        return self.data \n",
    "\n",
    "    def getNext(self):\n",
    "        return self.next\n",
    "\n",
    "    def setData(self, newdata):\n",
    "        self.data = newdata\n",
    "\n",
    "    def setNext(self, newnext):\n",
    "        self.next = newnext \n",
    "    \n",
    "    def display(self):\n",
    "        print \"data:\", self.data\n",
    "        print \"next:\", self.next\n",
    "        \n",
    "        \n",
    "class UnorderedList:\n",
    "    \n",
    "    def __init__(self):\n",
    "        self.head = None\n",
    "        \n",
    "    def isEmpty(self):\n",
    "        return self.head == None\n",
    "\n",
    "    def add(self, item):\n",
    "        temp = Node(item)\n",
    "        temp.setNext(self.head)\n",
    "        self.head = temp\n",
    "    \n",
    "    def size(self):\n",
    "        \n",
    "        current = self.head\n",
    "        count = 0 \n",
    "        while current != None:\n",
    "            count +=1 \n",
    "            current = current.getNext()\n",
    "        \n",
    "        return count \n",
    "    \n",
    "    def search(self, item):\n",
    "        current = self.head\n",
    "        found = False\n",
    "        while current != None and not found:\n",
    "            if(current.getData() == item):\n",
    "                found = True\n",
    "            else:\n",
    "                current = current.getNext()\n",
    "        \n",
    "        return found \n",
    "    \n",
    "    def display(self):\n",
    "        current = self.head\n",
    "        output = \"head\" + \"->\"\n",
    "        while current != None:\n",
    "            output = output + str(current.getData()) + \"->\"\n",
    "            current = current.getNext()\n",
    "        output = output + \"None\"\n",
    "        print output\n",
    "        \n",
    "    def remove(self, rem_data):\n",
    "        current = self.head\n",
    "        found = False\n",
    "        previous = None\n",
    "        while current != None and not found:\n",
    "             \n",
    "            if(current.getData() == rem_data):\n",
    "                found = True\n",
    "            else:\n",
    "                previous = current\n",
    "                current = current.getNext()\n",
    "        # if it is the first one \n",
    "        if(previous == None):\n",
    "            self.head = current.getNext()\n",
    "        else: # other nodes \n",
    "            previous.setNext(current.getNext())\n",
    "    \n",
    "    def checkCyclic(self):\n",
    "        \n",
    "        tortoise = self.head\n",
    "        rabit = self.head\n",
    "        found = False\n",
    "        \n",
    "        while tortoise != None and rabit != None and rabit.next != None:\n",
    "            \n",
    "            tortoise = tortoise.next\n",
    "            rabit = rabit.next\n",
    "            rabit = rabit.next\n",
    "            \n",
    "            if(rabit == tortoise):\n",
    "                found = True\n",
    "            if(found):\n",
    "                break\n",
    "                \n",
    "        return found \n",
    "    \n",
    "    def reverse(self):\n",
    "        \n",
    "        current = self.head\n",
    "        \n",
    "        prev = None\n",
    "        while current != None:\n",
    "            \n",
    "            next = current.next    \n",
    "            current.next = prev\n",
    "            prev = current\n",
    "            current = next\n",
    "\n",
    "        self.head = prev\n",
    "        \n",
    "    def findNthfromLast(self, N):\n",
    "        \n",
    "        curr_plus_n = self.head\n",
    "        current = self.head \n",
    "        \n",
    "        # firs move currplus_n to n-1\n",
    "        for_cnt = 0\n",
    "        while curr_plus_n != None :\n",
    "            \n",
    "            if(for_cnt < N): \n",
    "                curr_plus_n = curr_plus_n.next\n",
    "                for_cnt = for_cnt + 1\n",
    "            else:\n",
    "                current = current.next\n",
    "                curr_plus_n = curr_plus_n.next\n",
    "            \n",
    "        return current.getData()\n",
    "        \n",
    "        # now start next pointer \n",
    "        \n",
    "mylist = UnorderedList()\n",
    "\n",
    "mylist.add(31)\n",
    "mylist.add(77)\n",
    "mylist.add(17)\n",
    "mylist.add(93)\n",
    "mylist.add(26)\n",
    "mylist.add(54)\n",
    "\n",
    "\n",
    "# print mylist.search(94)\n",
    "\n",
    "# mylist.display()\n",
    "\n",
    "# print mylist.size()\n",
    "\n",
    "# mylist.remove(26)\n",
    "\n",
    "# mylist.display()\n",
    "\n",
    "# mylist.checkCyclic()\n",
    "\n",
    "# mylist.display()\n",
    "# mylist.reverse()\n",
    "\n",
    "# mylist.display()\n",
    "# print \"done\"\n",
    "mylist.display()\n",
    "\n",
    "mylist.findNthfromLast(3)"
   ]
  },
  {
   "cell_type": "code",
   "execution_count": 194,
   "metadata": {},
   "outputs": [
    {
     "name": "stdout",
     "output_type": "stream",
     "text": [
      "data: 999\n",
      "next: <__main__.Node instance at 0x10ba895a8>\n"
     ]
    }
   ],
   "source": [
    "# check cyclicity of linked list \n",
    "\n"
   ]
  },
  {
   "cell_type": "code",
   "execution_count": 280,
   "metadata": {},
   "outputs": [
    {
     "name": "stdout",
     "output_type": "stream",
     "text": [
      "item: 10\n",
      "item: 5\n",
      "stop iteration\n",
      "item: 20\n",
      "item: 3\n",
      "stop iteration\n",
      "item: 50\n",
      "item: 23\n",
      "stop iteration\n",
      "<__main__.Node instance at 0x10b97f998>\n",
      "3\n",
      "5\n",
      "10\n",
      "20\n",
      "23\n",
      "50\n",
      "head->3->5->10->20->23->50->None\n",
      "<__main__.Node instance at 0x10b97f998>\n",
      "3\n",
      "5\n",
      "10\n",
      "23\n",
      "50\n",
      "head->3->5->10->23->50->None\n",
      "5\n"
     ]
    }
   ],
   "source": [
    "class Node:\n",
    "\n",
    "    def __init__(self, initdata):\n",
    "        self.data = initdata\n",
    "        self.next = None\n",
    "\n",
    "    def getData(self):\n",
    "        return self.data \n",
    "\n",
    "    def getNext(self):\n",
    "        return self.next\n",
    "\n",
    "    def setData(self, newdata):\n",
    "        self.data = newdata\n",
    "\n",
    "    def setNext(self, newnext):\n",
    "        self.next = newnext \n",
    "    \n",
    "    def display(self):\n",
    "        print \"data:\", self.data\n",
    "        print \"next:\", self.next\n",
    "        \n",
    "        \n",
    "class OrderedList:\n",
    "    \n",
    "    def __init__(self):\n",
    "        self.head = None\n",
    "        \n",
    "    def isEmpty(self):\n",
    "        return self.head == None\n",
    "\n",
    "    def add(self, item):\n",
    "        current = self.head\n",
    "        previous = None\n",
    "        stop = False\n",
    "        \n",
    "        temp = Node(item)\n",
    "        print \"item:\", item\n",
    "        if(self.head == None):\n",
    "            self.head= temp\n",
    "            return \n",
    "            \n",
    "        while current != None and not stop:\n",
    "            if(current.getData() > item):\n",
    "                print \"stop iteration\"\n",
    "                stop = True\n",
    "            else:\n",
    "                previous = current \n",
    "                current = current.getNext()\n",
    "        \n",
    "        \n",
    "        \n",
    "        if(previous == None):\n",
    "            temp.setNext(self.head)\n",
    "            self.head = temp \n",
    "        else:\n",
    "            temp.setNext(current)\n",
    "            previous.setNext(temp)\n",
    "            \n",
    "        return   \n",
    "            \n",
    "                \n",
    "\n",
    "    def size(self):\n",
    "        \n",
    "        current = self.head\n",
    "        count = 0 \n",
    "        while current != None:\n",
    "            count +=1 \n",
    "            current = current.getNext()\n",
    "        \n",
    "        return count \n",
    "    \n",
    "    def search(self, item):\n",
    "        current = self.head\n",
    "        found = False\n",
    "        while current != None and not found:\n",
    "            if(current.getData() == item):\n",
    "                found = True\n",
    "            else:\n",
    "                current = current.getNext()\n",
    "        \n",
    "        return found \n",
    "    \n",
    "    def display(self):\n",
    "        current = self.head\n",
    "        print current\n",
    "        output = \"head\" + \"->\"\n",
    "        while current != None:\n",
    "            print current.getData()\n",
    "            output = output + str(current.getData()) + \"->\"\n",
    "            current = current.getNext()\n",
    "        output = output + \"None\"\n",
    "        print output\n",
    "        \n",
    "    def remove(self, rem_data):\n",
    "        current = self.head\n",
    "        found = False\n",
    "        previous = None\n",
    "        \n",
    "        if(current == None): # empty list \n",
    "            return\n",
    "        \n",
    "        while current != None and not found: \n",
    "            if(current.getData() == rem_data):\n",
    "                found = True\n",
    "            else:\n",
    "                previous = current\n",
    "                current = current.getNext()\n",
    "        # if it is the first one \n",
    "        if(previous == None):\n",
    "            self.head = current.getNext()\n",
    "        else: # other nodes \n",
    "            previous.setNext(current.getNext())\n",
    "            \n",
    "l1 = OrderedList()\n",
    "l1.add(10)\n",
    "# l1.display()\n",
    "l1.add(5)\n",
    "# l1.display()\n",
    "l1.add(20)\n",
    "l1.add(3)\n",
    "l1.add(50)\n",
    "l1.add(23)\n",
    "\n",
    "l1.display()\n",
    "l1.remove(20)\n",
    "l1.display()\n",
    "\n",
    "print l1.size()"
   ]
  },
  {
   "cell_type": "code",
   "execution_count": 282,
   "metadata": {},
   "outputs": [
    {
     "name": "stdout",
     "output_type": "stream",
     "text": [
      "15\n"
     ]
    }
   ],
   "source": [
    "def listSum(alist):\n",
    "    sum =0 \n",
    "    for value in alist:\n",
    "        sum += value\n",
    "    print sum\n",
    "\n",
    "listSum([1,2,3,4,5])\n",
    "\n",
    "def listSumRec(alist):\n",
    "    \n",
    "    if(len(alist) ==1 ):\n",
    "        return alist[0]\n",
    "    else:\n",
    "        retrun alist[0] + listSumRec(alist[1:])\n",
    "        "
   ]
  },
  {
   "cell_type": "code",
   "execution_count": 292,
   "metadata": {},
   "outputs": [
    {
     "data": {
      "text/plain": [
       "120"
      ]
     },
     "execution_count": 292,
     "metadata": {},
     "output_type": "execute_result"
    }
   ],
   "source": [
    "def Factorial(num):\n",
    "    \n",
    "    if(num ==1 ):\n",
    "        return num \n",
    "    else:\n",
    "        return num * Factorial(num-1)\n",
    "        \n",
    "Factorial(5)"
   ]
  },
  {
   "cell_type": "code",
   "execution_count": 325,
   "metadata": {},
   "outputs": [
    {
     "name": "stdout",
     "output_type": "stream",
     "text": [
      "False\n",
      "False\n"
     ]
    }
   ],
   "source": [
    "def sequentialSearch(alist, item):\n",
    "    found = False\n",
    "    i = 0\n",
    "    while i < len(alist) and not found:\n",
    "        if(i == item):\n",
    "            found = True\n",
    "        i +=1\n",
    "        \n",
    "    return found\n",
    "    \n",
    "print sequentialSearch([1,2,3,4,5,6,7], 12)\n",
    "\n",
    "\n",
    "def sequentialSearch_ordered(alist, item):\n",
    "    found = False\n",
    "    i = 0\n",
    "    while i < len(alist) and not found :\n",
    "        if(alist[i] == item):\n",
    "            found = True\n",
    "        i +=1\n",
    "   \n",
    "    return found\n",
    "    \n",
    "print sequentialSearch_ordered([1,2,3,5,6,7], 12)\n",
    "\n",
    "\n"
   ]
  },
  {
   "cell_type": "code",
   "execution_count": 334,
   "metadata": {},
   "outputs": [
    {
     "name": "stdout",
     "output_type": "stream",
     "text": [
      "False\n"
     ]
    }
   ],
   "source": [
    "def binarySearch(alist, item):\n",
    "    list_size = len(alist)\n",
    "    \n",
    "    \n",
    "    first = 0 \n",
    "    last = list_size \n",
    "    \n",
    "    found = False \n",
    "    \n",
    "    if(item > alist[len(alist)-1] or item < alist[0]):\n",
    "        return False\n",
    "    while last > first and not found:\n",
    "        pivot = (first + last)/2 \n",
    "        if(item == alist[pivot]):\n",
    "            found = True \n",
    "        else:\n",
    "            if(item < alist[pivot]):\n",
    "                last = pivot\n",
    "            else:\n",
    "                first = pivot\n",
    "            \n",
    "\n",
    "    \n",
    "    return found\n",
    "\n",
    "print binarySearch([1,2,3,4,5,6,7,8,9,10,11,12,13], 15)\n",
    "        \n",
    "    \n",
    "    "
   ]
  },
  {
   "cell_type": "code",
   "execution_count": 341,
   "metadata": {},
   "outputs": [
    {
     "data": {
      "text/plain": [
       "[1, 12, 23, 34, 45, 56, 67, 89]"
      ]
     },
     "execution_count": 341,
     "metadata": {},
     "output_type": "execute_result"
    }
   ],
   "source": [
    "def bubbleSort(alist):\n",
    "    \n",
    "    \n",
    "    for i in range(len(alist)):\n",
    "        exchanges = False \n",
    "        if(exchanges):\n",
    "            break\n",
    "        last = len(alist)-i\n",
    "        for j in range(0, last-1, 1):\n",
    "            if(alist[j] > alist[j+1]):\n",
    "                alist[j], alist[j+1] = alist[j+1], alist[j]\n",
    "                exchanges = True\n",
    "    \n",
    "    return alist\n",
    "\n",
    "bubbleSort([45,23,67,89,12,1,34,56])\n",
    "            "
   ]
  },
  {
   "cell_type": "code",
   "execution_count": 5,
   "metadata": {},
   "outputs": [
    {
     "name": "stdout",
     "output_type": "stream",
     "text": [
      "[1, 12, 23, 34, 34, 45, 56, 67, 89]\n"
     ]
    }
   ],
   "source": [
    "def selectionSort(alist):\n",
    "    \n",
    "    for i in range(len(alist)-1):\n",
    "        last = len(alist)-i-1\n",
    "        max_val = -0xfffff\n",
    "        max_loc = -1\n",
    "        for j in range(0,last+1, 1):\n",
    "            if(alist[j] >= max_val):\n",
    "                max_val = alist[j]\n",
    "                max_loc = j\n",
    "        \n",
    "        if(max_loc <= last):        \n",
    "            alist[last], alist[max_loc] = alist[max_loc], alist[last]\n",
    "   \n",
    "    return alist\n",
    "print selectionSort([45,23,67,89,12,1,34,56,34])"
   ]
  },
  {
   "cell_type": "code",
   "execution_count": 17,
   "metadata": {},
   "outputs": [
    {
     "name": "stdout",
     "output_type": "stream",
     "text": [
      "sorting using alist\n",
      "sorting using alist\n",
      "sorting using alist\n",
      "sorting using alist\n",
      "left half : [54]\n",
      "sorting using alist\n",
      "right half : [26]\n",
      "after sorting [26, 54]\n",
      "left half : [26, 54]\n",
      "sorting using alist\n",
      "sorting using alist\n",
      "left half : [93]\n",
      "sorting using alist\n",
      "right half : [17]\n",
      "after sorting [17, 93]\n",
      "right half : [17, 93]\n",
      "after sorting [17, 26, 54, 93]\n",
      "left half : [17, 26, 54, 93]\n",
      "sorting using alist\n",
      "sorting using alist\n",
      "sorting using alist\n",
      "left half : [77]\n",
      "sorting using alist\n",
      "right half : [31]\n",
      "after sorting [31, 77]\n",
      "left half : [31, 77]\n",
      "sorting using alist\n",
      "sorting using alist\n",
      "left half : [44]\n",
      "sorting using alist\n",
      "sorting using alist\n",
      "left half : [55]\n",
      "sorting using alist\n",
      "right half : [20]\n",
      "after sorting [20, 55]\n",
      "right half : [20, 55]\n",
      "after sorting [20, 44, 55]\n",
      "right half : [20, 44, 55]\n",
      "after sorting [20, 31, 44, 55, 77]\n",
      "right half : [20, 31, 44, 55, 77]\n",
      "after sorting [17, 20, 26, 31, 44, 54, 55, 77, 93]\n",
      "[17, 20, 26, 31, 44, 54, 55, 77, 93]\n"
     ]
    }
   ],
   "source": [
    "def mergeSort(alist):\n",
    "    \n",
    "    print \"sorting using alist\"\n",
    "    \n",
    "    if len(alist) > 1 :\n",
    "        mid = len(alist)/2\n",
    "        lefthalf = alist[0:mid]\n",
    "        righthalf = alist[mid:]\n",
    "        \n",
    "        \n",
    "        mergeSort(lefthalf)\n",
    "        print \"left half :\", lefthalf\n",
    "        mergeSort(righthalf)\n",
    "        print \"right half :\", righthalf\n",
    "        i =0\n",
    "        j =0\n",
    "        k =0 \n",
    "        while i < len(lefthalf) and j < len(righthalf):\n",
    "            if lefthalf[i] > righthalf[j]:\n",
    "                alist[k] = righthalf[j]\n",
    "                j = j +1\n",
    "            else:\n",
    "                alist[k] = lefthalf[i]\n",
    "                i = i + 1\n",
    "            \n",
    "            k = k + 1\n",
    "        \n",
    "        while i < len(lefthalf):\n",
    "            alist[k] = lefthalf[i]\n",
    "            i = i + 1\n",
    "            k = k + 1\n",
    "        \n",
    "        while j < len(righthalf):\n",
    "            alist[k] = righthalf[j]\n",
    "            j = j + 1\n",
    "            k = k + 1\n",
    "        \n",
    "        print \"after sorting\", alist\n",
    "#     print \"merging complete\"\n",
    "      \n",
    "    return alist\n",
    "    \n",
    "alist = [54,26,93,17,77,31,44,55,20]\n",
    "mergeSort(alist)\n",
    "print(alist)\n",
    "    \n",
    "            "
   ]
  },
  {
   "cell_type": "code",
   "execution_count": 22,
   "metadata": {},
   "outputs": [
    {
     "name": "stdout",
     "output_type": "stream",
     "text": [
      "[17, 20, 26, 31, 44, 54, 55, 77, 93]\n",
      "[17, 20, 26]\n"
     ]
    }
   ],
   "source": [
    "def KLargest(alist, K):\n",
    "    \n",
    "    # sort the array \n",
    "    alist.sort()\n",
    "    return alist[:K]\n",
    "    \n",
    "alist = [54,26,93,17,77,31,44,55,20]\n",
    "klargest = KLargest(alist, 3)\n",
    "print alist\n",
    "print klargest\n",
    "\n",
    "    "
   ]
  },
  {
   "cell_type": "code",
   "execution_count": 23,
   "metadata": {
    "collapsed": true
   },
   "outputs": [],
   "source": [
    "D = {}\n",
    "\n",
    "D['a'] = 0\n",
    "D['b'] = 0\n",
    "D['c'] = 0 \n",
    "\n",
    "\n"
   ]
  },
  {
   "cell_type": "code",
   "execution_count": 48,
   "metadata": {},
   "outputs": [
    {
     "name": "stdout",
     "output_type": "stream",
     "text": [
      "233168\n"
     ]
    }
   ],
   "source": [
    "##Eular 1\n",
    "\n",
    "NUM = 1000\n",
    "\n",
    "sum = 0\n",
    "for i in range(1, NUM):\n",
    "    if i % 3 == 0 or i %5 ==0:\n",
    "        sum = sum + i\n",
    "    \n",
    "print sum\n",
    "\n"
   ]
  },
  {
   "cell_type": "code",
   "execution_count": 50,
   "metadata": {},
   "outputs": [
    {
     "name": "stdout",
     "output_type": "stream",
     "text": [
      "4613732\n"
     ]
    }
   ],
   "source": [
    "def Finonacii():\n",
    "    \n",
    "    curr = 1\n",
    "    prev = 1\n",
    "    Fib = []\n",
    "    Fib.append(1)\n",
    "    Fib.append(2)\n",
    "    \n",
    "    sum = 2 \n",
    "    condition = False\n",
    "    i = 2\n",
    "    while not condition:  \n",
    "        pot_fib = Fib[i-1] + Fib[i-2]\n",
    "        \n",
    "\n",
    "        if pot_fib >= 4000000:\n",
    "#         if pot_fib > 100:\n",
    "            condition = True\n",
    "            break\n",
    "            \n",
    "        if pot_fib % 2 == 0:\n",
    "            sum = sum + pot_fib\n",
    "        Fib.append(pot_fib)\n",
    "        i = i + 1\n",
    "#     print Fib    \n",
    "    return sum\n",
    "    \n",
    "print Finonacii()\n",
    "# print sum\n",
    "# print Fib"
   ]
  },
  {
   "cell_type": "code",
   "execution_count": 100,
   "metadata": {},
   "outputs": [
    {
     "data": {
      "text/plain": [
       "10000"
      ]
     },
     "execution_count": 100,
     "metadata": {},
     "output_type": "execute_result"
    }
   ],
   "source": [
    "def Palindrom(num, reverse=False):\n",
    "    nlist = list(str(num))\n",
    "    if reverse:\n",
    "        rlist = list(str(num))\n",
    "    siz = len(nlist)\n",
    "    contOK = True\n",
    "    for i in range(len(nlist)/2):\n",
    "        if reverse:\n",
    "            rlist[i], rlist[siz-1-i] = rlist[siz-1-i], rlist[i]\n",
    "        \n",
    "        if(nlist[i] == nlist[siz-1-i]):\n",
    "            contOK = True\n",
    "        else:\n",
    "            contOK = False\n",
    "    if (reverse):\n",
    "        return int(\"\".join(rlist))\n",
    "    else:\n",
    "        return contOK\n",
    "    \n",
    "\n",
    "# Palindrom(102, reverse=False )\n",
    "def LycrelNumber(num):\n",
    "    \n",
    "    count_LN = 0\n",
    "    for i in range(num):\n",
    "        iter_count = 0\n",
    "        found = False\n",
    "        old_num = i\n",
    "        while iter_count < 50 and not found:\n",
    "            new_num = old_num + Palindrom(old_num, reverse= True)\n",
    "            \n",
    "            if(Palindrom(new_num)):#means it is a Palindrome \n",
    "#                 print \"numbers \", new_num,old_num, Palindrom(old_num, reverse= True)\n",
    "#                 print \"new num : \", new_num, \" palindrome\"\n",
    "                found = True\n",
    "                count_LN +=1\n",
    "            old_num = new_num    \n",
    "            iter_count +=1\n",
    "        \n",
    "    return count_LN\n",
    "\n",
    "LycrelNumber(10000)\n",
    "        \n",
    "#     "
   ]
  },
  {
   "cell_type": "code",
   "execution_count": 110,
   "metadata": {},
   "outputs": [
    {
     "name": "stdout",
     "output_type": "stream",
     "text": [
      "['a', ['b', ['d', [], []], ['e', [], []]], ['c', ['f', [], []], []]]\n",
      "('left subtree : ', ['b', ['d', [], []], ['e', [], []]])\n",
      "('right subtree : ', ['c', ['f', [], []], []])\n"
     ]
    }
   ],
   "source": [
    "myTree = ['a', \n",
    "             ['b',\n",
    "                 ['d', [],[]], ['e', [], []]], \n",
    "             ['c', \n",
    "                  ['f', [],[]], \n",
    "                  []\n",
    "             \n",
    "             ]\n",
    "         ]\n",
    "\n",
    "print myTree\n",
    "\n",
    "print (\"left subtree : \", myTree[1])\n",
    "print (\"right subtree : \", myTree[2])\n",
    "\n"
   ]
  },
  {
   "cell_type": "code",
   "execution_count": 118,
   "metadata": {},
   "outputs": [],
   "source": [
    "def BinaryTree(r):\n",
    "    return [r,[],[]]\n",
    "\n",
    "def insertLeft(root, newBranch):\n",
    "    t = root.pop(1)\n",
    "    \n",
    "    if(len(t) > 1):\n",
    "        root.insert(1,[newBranch, t, []])\n",
    "    print BinaryTree(2)\n"
   ]
  },
  {
   "cell_type": "code",
   "execution_count": 119,
   "metadata": {},
   "outputs": [
    {
     "ename": "IndentationError",
     "evalue": "expected an indented block (<ipython-input-119-ee003956cdd6>, line 20)",
     "output_type": "error",
     "traceback": [
      "\u001b[0;36m  File \u001b[0;32m\"<ipython-input-119-ee003956cdd6>\"\u001b[0;36m, line \u001b[0;32m20\u001b[0m\n\u001b[0;31m    \u001b[0m\n\u001b[0m    ^\u001b[0m\n\u001b[0;31mIndentationError\u001b[0m\u001b[0;31m:\u001b[0m expected an indented block\n"
     ]
    }
   ],
   "source": [
    "class BinarySearchTree:\n",
    "    \n",
    "    def __init__(self):\n",
    "        self.root = None\n",
    "        self.size = 0\n",
    "        \n",
    "    def length(self):\n",
    "        return self.size\n",
    "    \n",
    "    def __len__(self):\n",
    "        return self.size\n",
    "    \n",
    "    def __iter__(self):\n",
    "        return self.root.__iter__()\n",
    "    \n",
    "class TreeNode:\n",
    "    \n",
    "    def __init__(self, key, val, left=None, right = None):\n",
    "    \n",
    "    "
   ]
  },
  {
   "cell_type": "code",
   "execution_count": 128,
   "metadata": {},
   "outputs": [],
   "source": [
    "class Vertex:\n",
    "    \n",
    "    def __init__(self, key):\n",
    "        self.id = key\n",
    "        self.connectedTo = {}\n",
    "        \n",
    "    def addNeighbor(self, nbr, weight=0):\n",
    "        self.connectedTo[nbr] = weight\n",
    "    \n",
    "    def __str__(self):\n",
    "        return str(self.id) + ' connected To: ' + str([x.id for x in self.connectedTo])\n",
    "    \n",
    "    def getConnections(self):\n",
    "        return self.connectedTo.keys()\n",
    "    \n",
    "    def getId(self):\n",
    "        return self.id\n",
    "    \n",
    "    def getWeight(self, nbr):\n",
    "        return self.connectedTo[nbr]\n",
    "    \n",
    "class Graph:\n",
    "    \n",
    "    def __init__(self):\n",
    "        self.vertList = {}\n",
    "        self.numVertices = 0\n",
    "        \n",
    "    def addVertex(self,key):\n",
    "        self.numVertices = self.numVertices + 1\n",
    "        newVertex = Vertex(key)\n",
    "        self.vertList[key] = newVertex\n",
    "    \n",
    "    def getVertex(self,key):\n",
    "        if n in self.vertList:\n",
    "            return self.vertList[n]\n",
    "        else:\n",
    "            return None\n",
    "        \n",
    "    def __contains__(self, n):\n",
    "        return n in self.vertList\n",
    "    \n",
    "    def addEdge(self, f, t, cost=0):\n",
    "        if f not in self.vertList:\n",
    "            nv = self.addVertex(f)\n",
    "        if t not in self.vertList:\n",
    "            nv = self.addVertext(t)\n",
    "        \n",
    "        self.vertList[f].addNeighbor(self.vertList[t], cost)\n",
    "        \n",
    "    def getVertices(self):\n",
    "        return self.vertList.keys()\n",
    "    \n",
    "    def __iter__(self):\n",
    "        return iter(self.vertList.values())"
   ]
  },
  {
   "cell_type": "code",
   "execution_count": 131,
   "metadata": {},
   "outputs": [
    {
     "name": "stdout",
     "output_type": "stream",
     "text": [
      "{0: <__main__.Vertex instance at 0x106b03c20>, 1: <__main__.Vertex instance at 0x106b03cb0>, 2: <__main__.Vertex instance at 0x106b03bd8>, 3: <__main__.Vertex instance at 0x106b03b48>, 4: <__main__.Vertex instance at 0x106b03f38>, 5: <__main__.Vertex instance at 0x106331638>}\n"
     ]
    }
   ],
   "source": [
    "g = Graph()\n",
    "\n",
    "for i in range(6):\n",
    "    g.addVertex(i)\n",
    "\n",
    "print g.vertList\n",
    "\n",
    "g.addEdge(0,1,5)\n",
    "\n"
   ]
  },
  {
   "cell_type": "code",
   "execution_count": 141,
   "metadata": {},
   "outputs": [
    {
     "ename": "TypeError",
     "evalue": "'int' object is not iterable",
     "output_type": "error",
     "traceback": [
      "\u001b[0;31m---------------------------------------------------------------------------\u001b[0m",
      "\u001b[0;31mTypeError\u001b[0m                                 Traceback (most recent call last)",
      "\u001b[0;32m<ipython-input-141-75359b8127ab>\u001b[0m in \u001b[0;36m<module>\u001b[0;34m()\u001b[0m\n\u001b[1;32m     22\u001b[0m \u001b[0;34m\u001b[0m\u001b[0m\n\u001b[1;32m     23\u001b[0m \u001b[0;34m\u001b[0m\u001b[0m\n\u001b[0;32m---> 24\u001b[0;31m \u001b[0;32mprint\u001b[0m \u001b[0mhash\u001b[0m\u001b[0;34m(\u001b[0m\u001b[0;34m\"cat\"\u001b[0m\u001b[0;34m,\u001b[0m \u001b[0;36m11\u001b[0m\u001b[0;34m,\u001b[0m \u001b[0mmethod\u001b[0m \u001b[0;34m=\u001b[0m \u001b[0;34m'mid-square'\u001b[0m\u001b[0;34m)\u001b[0m\u001b[0;34m\u001b[0m\u001b[0m\n\u001b[0m\u001b[1;32m     25\u001b[0m \u001b[0;32mprint\u001b[0m \u001b[0mhash\u001b[0m\u001b[0;34m(\u001b[0m\u001b[0;34m\"dog\"\u001b[0m\u001b[0;34m,\u001b[0m \u001b[0mmethod\u001b[0m \u001b[0;34m=\u001b[0m \u001b[0;34m'mid-square'\u001b[0m\u001b[0;34m)\u001b[0m\u001b[0;34m\u001b[0m\u001b[0m\n\u001b[1;32m     26\u001b[0m \u001b[0;32mprint\u001b[0m \u001b[0mhash\u001b[0m\u001b[0;34m(\u001b[0m\u001b[0;34m\"rat\"\u001b[0m\u001b[0;34m,\u001b[0m \u001b[0mmethod\u001b[0m \u001b[0;34m=\u001b[0m \u001b[0;34m'mid-square'\u001b[0m\u001b[0;34m)\u001b[0m\u001b[0;34m\u001b[0m\u001b[0m\n",
      "\u001b[0;32m<ipython-input-141-75359b8127ab>\u001b[0m in \u001b[0;36mhash\u001b[0;34m(astring, tablesize, method)\u001b[0m\n\u001b[1;32m     11\u001b[0m             \u001b[0msum\u001b[0m \u001b[0;34m=\u001b[0m \u001b[0msum\u001b[0m \u001b[0;34m+\u001b[0m \u001b[0mord\u001b[0m\u001b[0;34m(\u001b[0m\u001b[0mastring\u001b[0m\u001b[0;34m[\u001b[0m\u001b[0mpos\u001b[0m\u001b[0;34m]\u001b[0m\u001b[0;34m)\u001b[0m \u001b[0;34m*\u001b[0m \u001b[0mord\u001b[0m\u001b[0;34m(\u001b[0m\u001b[0mastring\u001b[0m\u001b[0;34m[\u001b[0m\u001b[0mpos\u001b[0m\u001b[0;34m]\u001b[0m\u001b[0;34m)\u001b[0m\u001b[0;34m\u001b[0m\u001b[0m\n\u001b[1;32m     12\u001b[0m \u001b[0;31m#             extract the portion which is in odd places and add them\u001b[0m\u001b[0;34m\u001b[0m\u001b[0;34m\u001b[0m\u001b[0m\n\u001b[0;32m---> 13\u001b[0;31m             \u001b[0msum1\u001b[0m\u001b[0;34m=\u001b[0m \u001b[0mlist\u001b[0m\u001b[0;34m(\u001b[0m\u001b[0msum\u001b[0m\u001b[0;34m)\u001b[0m\u001b[0;34m\u001b[0m\u001b[0m\n\u001b[0m\u001b[1;32m     14\u001b[0m             \u001b[0mout\u001b[0m \u001b[0;34m=\u001b[0m \u001b[0;34m[\u001b[0m\u001b[0;34m]\u001b[0m\u001b[0;34m\u001b[0m\u001b[0m\n\u001b[1;32m     15\u001b[0m             \u001b[0;32mfor\u001b[0m \u001b[0mpos_digit\u001b[0m \u001b[0;32min\u001b[0m \u001b[0mrange\u001b[0m\u001b[0;34m(\u001b[0m\u001b[0mlen\u001b[0m\u001b[0;34m(\u001b[0m\u001b[0msum1\u001b[0m\u001b[0;34m)\u001b[0m\u001b[0;34m)\u001b[0m\u001b[0;34m:\u001b[0m\u001b[0;34m\u001b[0m\u001b[0m\n",
      "\u001b[0;31mTypeError\u001b[0m: 'int' object is not iterable"
     ]
    }
   ],
   "source": [
    "def hash(astring, tablesize, method = \"folding\"):\n",
    "    sum =0\n",
    "    \n",
    "    if(method == 'folding'):\n",
    "        for pos in range(len(astring)):\n",
    "            sum = sum + ord(astring[pos])  \n",
    "        return sum%tablesize \n",
    "\n",
    "    elif(method == 'mid-square'):\n",
    "        for pos in range(len(astring)):\n",
    "            sum = sum + ord(astring[pos]) * ord(astring[pos])\n",
    "#             extract the portion which is in odd places and add them\n",
    "            sum1= list(sum)\n",
    "            out = []\n",
    "            for pos_digit in range(len(sum1)):\n",
    "                if(pos_digit %2 !=0):\n",
    "                    out.append(sum1[pos_digit])\n",
    "            print(out)\n",
    "            out = int(out)\n",
    "    else:\n",
    "        print \"not a valid method \"\n",
    "        \n",
    "\n",
    "print hash(\"cat\", 11, method = 'mid-square')\n",
    "print hash(\"dog\", method = 'mid-square')\n",
    "print hash(\"rat\", method = 'mid-square')\n",
    "print hash(\"catt\", 11, method = 'mid-square')\n",
    "print hash(\"dogg\",11, method = 'mid-square')\n",
    "print hash(\"ratt\", 11, method = 'mid-square')"
   ]
  },
  {
   "cell_type": "code",
   "execution_count": 167,
   "metadata": {},
   "outputs": [
    {
     "name": "stdout",
     "output_type": "stream",
     "text": [
      "lPal 906609\n"
     ]
    }
   ],
   "source": [
    "def palindrome(num):\n",
    "    num = list(str(num))\n",
    "    index = 0\n",
    "    siz = len(num)\n",
    "    OK = True\n",
    "    while index < siz/2:\n",
    "        if(num[index] != num[siz-1-index]):\n",
    "            OK= False\n",
    "            break \n",
    "        index +=1\n",
    "        \n",
    "    return OK\n",
    "\n",
    "# print palindrome(12022)\n",
    "\n",
    "def largest_palindrome(start, end):\n",
    "    lPal = -end\n",
    "    for num in range(start, end, 1):\n",
    "        for num1 in range(start, end, 1):\n",
    "            product = num * num1\n",
    "#         print num, palindrome(num)\n",
    "            if(palindrome(product)):\n",
    "\n",
    "                if(product > lPal):\n",
    "                    lPal = product\n",
    "\n",
    "    print \"lPal\", lPal\n",
    "    \n",
    "    \n",
    "largest_palindrome(100,1000)\n",
    "    \n",
    "    \n",
    "    "
   ]
  },
  {
   "cell_type": "code",
   "execution_count": 177,
   "metadata": {},
   "outputs": [
    {
     "name": "stdout",
     "output_type": "stream",
     "text": [
      "sqOfSum : 25502500.0\n",
      "sumOfSq :  338350\n",
      "25164150.0\n"
     ]
    }
   ],
   "source": [
    "def squareOfSum(num):\n",
    "    sum = num * (num +1) / 2.\n",
    "    print \"sqOfSum :\", sum*sum\n",
    "    return sum*sum \n",
    "    \n",
    "def sumOfSquare(num):\n",
    "    sumOfSq = num * (num +1) * (2*num +1) / 6\n",
    "    print \"sumOfSq : \", sumOfSq\n",
    "    return sumOfSq\n",
    "    \n",
    "def func(num):\n",
    "    return squareOfSum(num) - sumOfSquare(num)  \n",
    "    \n",
    "print func(100)\n",
    "    \n"
   ]
  },
  {
   "cell_type": "code",
   "execution_count": 206,
   "metadata": {},
   "outputs": [
    {
     "name": "stdout",
     "output_type": "stream",
     "text": [
      "[1, 2, 3, 4, 5, 6, 7, 8, 9, 10, 11, 12, 13, 14, 15, 16, 17, 18, 19]\n",
      "[1, 2, 3, False, 5, False, 7, False, False, False, 11, False, 13, False, False, False, 17, False, 19]\n"
     ]
    }
   ],
   "source": [
    "def Palndrome(num):\n",
    "    pal = list(range(1,num))\n",
    "    print pal\n",
    "    \n",
    "    for i in range(2,num+1):\n",
    "        j = 2\n",
    "        fact = 1\n",
    "        while i*j < num:\n",
    "            \n",
    "            fact = i *j\n",
    "#             print fact\n",
    "            pal[fact-1] = False\n",
    "            j= j+1\n",
    "    return pal\n",
    "        \n",
    "print Paln(20)\n",
    "    "
   ]
  },
  {
   "cell_type": "code",
   "execution_count": 214,
   "metadata": {},
   "outputs": [
    {
     "name": "stdout",
     "output_type": "stream",
     "text": [
      "[0, 1, 1, 1, 2, 3, 4, 6, 9, 13, 19]\n"
     ]
    }
   ],
   "source": [
    "# fibonacii using dynamic programming \n",
    "Fib = [0,1]\n",
    "\n",
    "def fibonacii(num):\n",
    "    \n",
    "    if(num < len(Fib)): # means it is already calculated \n",
    "        return Fib[num-1]\n",
    "    else:\n",
    "        temp_fib = fibonacii(num-1) + fibonacii(num-2)\n",
    "        Fib.append(temp_fib)\n",
    "        return temp_fib\n",
    "    \n",
    "    \n",
    "fibonacii(10)\n",
    "print Fib"
   ]
  },
  {
   "cell_type": "code",
   "execution_count": 215,
   "metadata": {
    "collapsed": true
   },
   "outputs": [],
   "source": [
    "def lcs(X , Y):\n",
    "    # find the length of the strings\n",
    "    m = len(X)\n",
    "    n = len(Y)\n",
    " \n",
    "    # declaring the array for storing the dp values\n",
    "    L = [[None]*(n+1) for i in xrange(m+1)]\n",
    " \n",
    "    \"\"\"Following steps build L[m+1][n+1] in bottom up fashion\n",
    "    Note: L[i][j] contains length of LCS of X[0..i-1]\n",
    "    and Y[0..j-1]\"\"\"\n",
    "    for i in range(m+1):\n",
    "        for j in range(n+1):\n",
    "            if i == 0 or j == 0 :\n",
    "                L[i][j] = 0\n",
    "            elif X[i-1] == Y[j-1]:\n",
    "                L[i][j] = L[i-1][j-1]+1\n",
    "            else:\n",
    "                L[i][j] = max(L[i-1][j] , L[i][j-1])\n",
    " \n",
    "    # L[m][n] contains the length of LCS of X[0..n-1] & Y[0..m-1]\n",
    "    return L[m][n]\n",
    "#end of function lcs"
   ]
  },
  {
   "cell_type": "code",
   "execution_count": 224,
   "metadata": {},
   "outputs": [
    {
     "name": "stdout",
     "output_type": "stream",
     "text": [
      "['A', 'C', 'D', 'F']\n"
     ]
    }
   ],
   "source": [
    "# longest repeating substring \n",
    "\n",
    "def lrs(str1):\n",
    "    \n",
    "    alist = list(str1)\n",
    "    \n",
    "    dict1 ={}\n",
    "    \n",
    "    for ch in alist:\n",
    "        \n",
    "        if ch not in dict1.keys():\n",
    "            dict1[ch] =1\n",
    "        else:\n",
    "            dict1[ch] = dict1[ch] + 1\n",
    "    \n",
    "    out = []\n",
    "    for key in dict1:\n",
    "        value = dict1[key]\n",
    "        if(value>1):\n",
    "            out.append(key)\n",
    "        \n",
    "    return str(out)\n",
    "            \n",
    "                \n",
    "print lrs(\"AABCCEDDFF\")      "
   ]
  },
  {
   "cell_type": "code",
   "execution_count": 237,
   "metadata": {},
   "outputs": [
    {
     "name": "stdout",
     "output_type": "stream",
     "text": [
      "4\n"
     ]
    }
   ],
   "source": [
    "# min coin problem \n",
    "def recd(coinList, changeValue, results):\n",
    "    \n",
    "    minCoins = changeValue\n",
    "    if changeValue in coinList:\n",
    "        return 1\n",
    "    elif results[changeValue] > 0:\n",
    "        return results[changeValue]\n",
    "    else:\n",
    "        for i in [ch for ch in coinList if ch <=changeValue]:\n",
    "            numCoins = 1 + recd(coinList, changeValue-i, results)\n",
    "#             print numCoins\n",
    "            if numCoins < minCoins:\n",
    "                minCoins = numCoins\n",
    "                results[changeValue] = minCoins\n",
    "    return minCoins \n",
    "     \n",
    "\n",
    "print(recd([1,5,10,25],65,[0]*66))\n",
    "# recd([5], 5, [0]*64)"
   ]
  },
  {
   "cell_type": "code",
   "execution_count": 297,
   "metadata": {},
   "outputs": [],
   "source": [
    "# find next largest number\"534976\";\n",
    "\n",
    "def nextLagest(num):\n",
    "    \n",
    "    num = list(str(num))\n",
    "    siz = len(num)\n",
    "    for i in range(siz-1, -1,-1):\n",
    "        if i-1 <0:\n",
    "            break\n",
    "        if (num[i] > num[i-1]):\n",
    "            break\n",
    "    \n",
    "\n",
    "nextLagest(23456)"
   ]
  },
  {
   "cell_type": "code",
   "execution_count": 307,
   "metadata": {},
   "outputs": [
    {
     "name": "stdout",
     "output_type": "stream",
     "text": [
      "[0, 2, 3, 4, 4, 4, 6, 6, 6, 7, 8, 8, 8, 8, 8, 10]\n"
     ]
    }
   ],
   "source": [
    "def sortByCounting(alist):\n",
    "    \n",
    "    histogram = {}\n",
    "    \n",
    "    for i in alist:\n",
    "        \n",
    "        key = histogram.keys()\n",
    "        if i in key:\n",
    "            histogram[i] = histogram[i] + 1\n",
    "        else:\n",
    "            histogram[i] = 1\n",
    "    output = []\n",
    "    for key in histogram:\n",
    "        for i in range(histogram[key]):\n",
    "            output.append(key)\n",
    "            \n",
    "    return output   \n",
    "          \n",
    "\n",
    "\n",
    "print sortByCounting([10, 2, 6, 8, 0, 8, 4, 6, 6, 8, 3, 4, 4, 7, 8, 8])\n",
    "    \n",
    "\n",
    "    "
   ]
  },
  {
   "cell_type": "code",
   "execution_count": 341,
   "metadata": {},
   "outputs": [
    {
     "ename": "SyntaxError",
     "evalue": "invalid syntax (<ipython-input-341-430c4e65ae19>, line 6)",
     "output_type": "error",
     "traceback": [
      "\u001b[0;36m  File \u001b[0;32m\"<ipython-input-341-430c4e65ae19>\"\u001b[0;36m, line \u001b[0;32m6\u001b[0m\n\u001b[0;31m    if(a[i])\u001b[0m\n\u001b[0m            ^\u001b[0m\n\u001b[0;31mSyntaxError\u001b[0m\u001b[0;31m:\u001b[0m invalid syntax\n"
     ]
    }
   ],
   "source": [
    "def OddEven(alist):\n",
    "    \n",
    "    siz = len(alist)/2\n",
    "    \n",
    "    for i in range(size/2):\n",
    "        if(a[i])"
   ]
  },
  {
   "cell_type": "code",
   "execution_count": 366,
   "metadata": {},
   "outputs": [
    {
     "name": "stdout",
     "output_type": "stream",
     "text": [
      "Index :  0\n",
      "Index_1 :\n",
      "ahajjshsjs\n",
      "Index :  2\n",
      "Index_1 :\n",
      "ajjshs\n",
      "Index :  4\n",
      "Index_1 :\n",
      "js\n",
      "Index :  6\n",
      "Index_1 :\n",
      "\n",
      "Index :  8\n",
      "Index_1 :\n",
      "\n",
      "Index :  10\n",
      "Index_1 :\n",
      "\n",
      "Index :  12\n",
      "Index :  13\n",
      "Index :  14\n",
      "Index :  15\n",
      "Index :  16\n"
     ]
    }
   ],
   "source": [
    "def longestPalindrome(aStr):\n",
    "    \n",
    "    index =0 \n",
    "    siz = len(aStr)\n",
    "    for ch in aStr:\n",
    "        index_1 = 0\n",
    "        low = 0\n",
    "        high =0\n",
    "        print \"Index : \", index\n",
    "        found = True\n",
    "        while low >=0 and high <  siz and index < siz:\n",
    "            print \"Index_1 :\"\n",
    "            if(low ==0 and high ==siz-1 and found == True):\n",
    "                print aStr[low:high]\n",
    "                break;\n",
    "\n",
    "            low = index - index_1\n",
    "            high = (siz -1)- (index)- index_1\n",
    "            if(aStr[low] != aStr[high]) :\n",
    "                found = False\n",
    "                print aStr[low+1:high+1]\n",
    "                index = index + 1\n",
    "                break\n",
    "            print index_1, low, high\n",
    "            print aStr[low], aStr[high]\n",
    "            index_1 = index_1 + 1\n",
    "        \n",
    "        \n",
    "        index = index + 1 \n",
    "        \n",
    "longestPalindrome(\"jahajjshsjs\")"
   ]
  },
  {
   "cell_type": "code",
   "execution_count": 427,
   "metadata": {},
   "outputs": [
    {
     "name": "stdout",
     "output_type": "stream",
     "text": [
      "abcd\n",
      "{'a': 0, 'c': 0, 'b': 0, 'd': 0}\n",
      "0\n",
      "bcde\n",
      "{'c': 0, 'b': 0, 'e': 0, 'd': 0}\n",
      "0\n",
      "cdea\n",
      "{'a': 0, 'c': 0, 'e': 0, 'd': 0}\n",
      "0\n",
      "False\n"
     ]
    }
   ],
   "source": [
    "def get_all_substrings(string, K):\n",
    "    length = len(string)\n",
    "    for i in xrange(length):\n",
    "#         print i\n",
    "#         for j in xrange(i + 1, length + 1):\n",
    "#             if()\n",
    "        if(i<length-K+1):\n",
    "            yield(string[i:i+ K]) \n",
    "\n",
    "            \n",
    "def get_substring(aString, K):\n",
    "    output\n",
    "    for i in get_all_substrings(aString, K):\n",
    "        dict1 = {}\n",
    "        print i\n",
    "        sum = False\n",
    "        for ch in i:\n",
    "    #         print ch\n",
    "            keys = dict1.keys()\n",
    "            if ch not in dict1:\n",
    "                dict1[ch] = 0\n",
    "            else:\n",
    "                dict1[ch] = dict1[ch] + 1\n",
    "\n",
    "        print dict1\n",
    "        sum = 0\n",
    "        for key in dict1:\n",
    "            sum = sum + dict1[key]\n",
    "        print sum\n",
    "\n",
    "        if sum == 1:\n",
    "            return True\n",
    "\n",
    "    return False\n",
    "\n",
    "    #     print dict1\n",
    "\n",
    "print get_substring(\"abcdea\", 4)"
   ]
  },
  {
   "cell_type": "code",
   "execution_count": 428,
   "metadata": {},
   "outputs": [
    {
     "name": "stdout",
     "output_type": "stream",
     "text": [
      "2\n",
      "{'a': 2, 'b': 0}\n",
      "1\n",
      "d\n",
      "True\n"
     ]
    }
   ],
   "source": [
    "def get_all_substrings(string, K):\n",
    "    length = len(string)\n",
    "    for i in xrange(length):\n",
    "#         print i\n",
    "#         for j in xrange(i + 1, length + 1):\n",
    "#             if()\n",
    "        if(i<length-K+1):\n",
    "            yield(string[i:i+ K]) \n",
    "\n",
    "            \n",
    "def get_substring(aString, K):\n",
    "    for i in get_all_substrings(aString, K):\n",
    "        dict1 = {}\n",
    "#         print i\n",
    "        \n",
    "        for ch in i:\n",
    "    #         print ch\n",
    "            keys = dict1.keys()\n",
    "            if ch not in dict1.keys():\n",
    "                dict1[ch] = 0\n",
    "            else:\n",
    "                dict1[ch] = dict1[ch] + 1\n",
    "\n",
    "#         print dict1\n",
    "        sum = 0\n",
    "        for key in dict1:\n",
    "            sum = sum + dict1[key]\n",
    "        print sum\n",
    "\n",
    "        if sum == 1:\n",
    "            print ch\n",
    "            return True\n",
    "        print dict1\n",
    "    return False\n",
    "\n",
    "    #     print dict1\n",
    "\n",
    "print get_substring(\"abaad\", 4)"
   ]
  },
  {
   "cell_type": "code",
   "execution_count": 469,
   "metadata": {},
   "outputs": [
    {
     "name": "stdout",
     "output_type": "stream",
     "text": [
      "{'a': [0, 3], 'c': [2], 'b': [1], 'e': [4, 6], 'f': [5]}\n",
      "ch1 b\n",
      "1 1\n",
      "changed\n",
      "added to ignore list\n",
      "ch1 c\n",
      "2 2\n",
      "changed\n",
      "added to ignore list\n",
      "ch1 e\n",
      "4 6\n",
      "changed\n",
      "added to ignore list\n",
      "ch1 f\n",
      "5 5\n",
      "changed\n",
      "added to ignore list\n",
      "ch1 e\n",
      "4 6\n",
      "changed\n",
      "added to ignore list\n",
      "[[0, 6]]\n"
     ]
    }
   ],
   "source": [
    "def sparseMatrix(inputList):\n",
    "    \n",
    "    sparseDict = {} \n",
    "    index = 0\n",
    "    for ch in inputList:\n",
    "        if ch not in sparseDict:\n",
    "            lst = []\n",
    "#             print ch\n",
    "            lst.append(index)\n",
    "            sparseDict[ch] = lst\n",
    "#             print \"lst\", lst\n",
    "#             print sparseDict\n",
    "        else:\n",
    "            \n",
    "            sparseDict[ch].append(index)\n",
    "        index = index + 1 \n",
    "        \n",
    "    return sparseDict\n",
    "        \n",
    "    print sparseDict\n",
    "def lengthEachScene(inputList):\n",
    "    # WRITE YOUR CODE HERE\n",
    "    sparseDict = sparseMatrix(inputList)\n",
    "    \n",
    "    print sparseDict\n",
    "    outList = []\n",
    "    ignore_list = []\n",
    "    for ch in inputList:\n",
    "        if(ch not in ignore_list):\n",
    "            siz = len(sparseDict[ch])\n",
    "            min_out = sparseDict[ch][0]\n",
    "            max_out = sparseDict[ch][siz-1]\n",
    "            for ch1 in inputList:\n",
    "                if(ch1 != ch):\n",
    "                    siz1 = len(sparseDict[ch1])\n",
    "                    print \"ch1\", ch1\n",
    "\n",
    "                    min_in = sparseDict[ch1][0]\n",
    "                    max_in = sparseDict[ch1][siz1-1]\n",
    "\n",
    "                    print min_in, max_in\n",
    "                    if min_in > min_out:\n",
    "                        max_out = max_in\n",
    "                        print \"changed\"\n",
    "                        ignore_list.append(ch1) \n",
    "                        print \"added to ignore list\"\n",
    "        tmp = [min_out, max_out]\n",
    "        outList.append(tmp)\n",
    "        \n",
    "        \n",
    "        return outList\n",
    "        print min, max\n",
    "        \n",
    "    pass\n",
    "\n",
    "inputList = ['a','b','c', 'a', 'e', 'f', 'e']\n",
    "outList =lengthEachScene(inputList)\n",
    "\n",
    "print outList\n",
    "\n",
    "\n"
   ]
  },
  {
   "cell_type": "code",
   "execution_count": 515,
   "metadata": {},
   "outputs": [
    {
     "name": "stdout",
     "output_type": "stream",
     "text": [
      "{'a': [0, 3], 'c': [2], 'b': [1], 'e': [4, 6], 'g': [7], 'f': [5]}\n",
      "['a', 'b', 'c', 'a', 'e', 'f', 'e', 'g']\n",
      "processing:  a\n",
      "ignore_list : []\n",
      "0 3 1 1\n",
      "ignore_list : ['b']\n",
      "0 3 2 2\n",
      "ignore_list : ['b', 'c']\n",
      "ignore_list : ['b', 'c']\n",
      "0 3 4 6\n",
      "changed e\n",
      "ignore_list : ['b', 'c']\n",
      "0 3 5 5\n",
      "changed f\n",
      "ignore_list : ['b', 'c']\n",
      "0 3 4 6\n",
      "changed e\n",
      "ignore_list : ['b', 'c']\n",
      "0 3 7 7\n",
      "changed g\n",
      "ignore_list : ['b', 'c']\n",
      "processing:  b\n",
      "processing:  c\n",
      "processing:  a\n",
      "ignore_list : ['b', 'c']\n",
      "0 3 1 1\n",
      "ignore_list : ['b', 'c', 'b']\n",
      "0 3 2 2\n",
      "ignore_list : ['b', 'c', 'b', 'c']\n",
      "ignore_list : ['b', 'c', 'b', 'c']\n",
      "0 3 4 6\n",
      "changed e\n",
      "ignore_list : ['b', 'c', 'b', 'c']\n",
      "0 3 5 5\n",
      "changed f\n",
      "ignore_list : ['b', 'c', 'b', 'c']\n",
      "0 3 4 6\n",
      "changed e\n",
      "ignore_list : ['b', 'c', 'b', 'c']\n",
      "0 3 7 7\n",
      "changed g\n",
      "ignore_list : ['b', 'c', 'b', 'c']\n",
      "processing:  e\n",
      "4 6 0 3\n",
      "changed a\n",
      "ignore_list : ['b', 'c', 'b', 'c']\n",
      "4 6 1 1\n",
      "changed b\n",
      "ignore_list : ['b', 'c', 'b', 'c']\n",
      "4 6 2 2\n",
      "changed c\n",
      "ignore_list : ['b', 'c', 'b', 'c']\n",
      "4 6 0 3\n",
      "changed a\n",
      "ignore_list : ['b', 'c', 'b', 'c']\n",
      "ignore_list : ['b', 'c', 'b', 'c']\n",
      "4 6 5 5\n",
      "ignore_list : ['b', 'c', 'b', 'c', 'f']\n",
      "ignore_list : ['b', 'c', 'b', 'c', 'f']\n",
      "4 6 7 7\n",
      "changed g\n",
      "ignore_list : ['b', 'c', 'b', 'c', 'f']\n",
      "processing:  f\n",
      "processing:  e\n",
      "4 6 0 3\n",
      "changed a\n",
      "ignore_list : ['b', 'c', 'b', 'c', 'f']\n",
      "4 6 1 1\n",
      "changed b\n",
      "ignore_list : ['b', 'c', 'b', 'c', 'f']\n",
      "4 6 2 2\n",
      "changed c\n",
      "ignore_list : ['b', 'c', 'b', 'c', 'f']\n",
      "4 6 0 3\n",
      "changed a\n",
      "ignore_list : ['b', 'c', 'b', 'c', 'f']\n",
      "ignore_list : ['b', 'c', 'b', 'c', 'f']\n",
      "4 6 5 5\n",
      "ignore_list : ['b', 'c', 'b', 'c', 'f', 'f']\n",
      "ignore_list : ['b', 'c', 'b', 'c', 'f', 'f']\n",
      "4 6 7 7\n",
      "changed g\n",
      "ignore_list : ['b', 'c', 'b', 'c', 'f', 'f']\n",
      "processing:  g\n",
      "7 7 0 3\n",
      "changed a\n",
      "ignore_list : ['b', 'c', 'b', 'c', 'f', 'f']\n",
      "7 7 1 1\n",
      "changed b\n",
      "ignore_list : ['b', 'c', 'b', 'c', 'f', 'f']\n",
      "7 7 2 2\n",
      "changed c\n",
      "ignore_list : ['b', 'c', 'b', 'c', 'f', 'f']\n",
      "7 7 0 3\n",
      "changed a\n",
      "ignore_list : ['b', 'c', 'b', 'c', 'f', 'f']\n",
      "7 7 4 6\n",
      "changed e\n",
      "ignore_list : ['b', 'c', 'b', 'c', 'f', 'f']\n",
      "7 7 5 5\n",
      "changed f\n",
      "ignore_list : ['b', 'c', 'b', 'c', 'f', 'f']\n",
      "7 7 4 6\n",
      "changed e\n",
      "ignore_list : ['b', 'c', 'b', 'c', 'f', 'f']\n",
      "ignore_list : ['b', 'c', 'b', 'c', 'f', 'f']\n",
      "[3, 4, 6, 7]\n"
     ]
    }
   ],
   "source": [
    "def sparseMatrix(inputList):\n",
    "    \n",
    "    sparseDict = {} \n",
    "    index = 0\n",
    "    for ch in inputList:\n",
    "        if ch not in sparseDict:\n",
    "            lst = []\n",
    "#             print ch\n",
    "            lst.append(index)\n",
    "            sparseDict[ch] = lst\n",
    "#             print \"lst\", lst\n",
    "#             print sparseDict\n",
    "        else:\n",
    "            \n",
    "            sparseDict[ch].append(index)\n",
    "        index = index + 1 \n",
    "        \n",
    "    return sparseDict\n",
    "        \n",
    "    print sparseDict\n",
    "def lengthEachScene(inputList):\n",
    "    # WRITE YOUR CODE HERE\n",
    "    sparseDict = sparseMatrix(inputList)\n",
    "    \n",
    "    print sparseDict\n",
    "    print inputList\n",
    "    outList = []\n",
    "    ignore_list = []\n",
    "    for ch in inputList:\n",
    "        print \"processing: \" , ch\n",
    "        if(ch not in ignore_list):\n",
    "            siz = len(sparseDict[ch])\n",
    "            min_out = sparseDict[ch][0]\n",
    "            max_out = sparseDict[ch][siz-1]\n",
    "            for ch1 in inputList:\n",
    "                if(ch1 != ch):\n",
    "                    siz1 = len(sparseDict[ch1])\n",
    "                    \n",
    "\n",
    "                    min_in = sparseDict[ch1][0]\n",
    "                    max_in = sparseDict[ch1][siz1-1]\n",
    "\n",
    "                    print min_out, max_out, min_in, max_in\n",
    "                    \n",
    "#                     print \"min_out <= min_in\", min_out, min_in\n",
    "#                     print \"min_in  <=max_out\", min_in, max_out\n",
    "#                     print \"max_out <= max_in\", max_out, max_in\n",
    "                    \n",
    "                    if (min_out <= min_in and min_in  <=max_out) :\n",
    "                        if (max_out <= max_in):\n",
    "                            max_out = max_in\n",
    "#                             print (min_in, max_out)\n",
    "                            ignore_list.append(ch1)\n",
    "#                             print \"added to ignore list\"\n",
    "                        else:\n",
    "                            ignore_list.append(ch1)\n",
    "\n",
    "                    else:\n",
    "                        print \"changed\", ch1\n",
    "                print \"ignore_list :\", ignore_list\n",
    " \n",
    "            tmp = [min_out, max_out]\n",
    "            outList.append(tmp)\n",
    "\n",
    "        \n",
    "    return outList\n",
    "    print min, max\n",
    "        \n",
    "    pass\n",
    "\n",
    "inputList = ['a','b','c', 'a', 'e', 'f', 'e', 'g']\n",
    "outList =lengthEachScene(inputList)\n",
    "\n",
    "final = []\n",
    "\n",
    "for a in outList:\n",
    "    for b in a:\n",
    "        final.append(b)\n",
    "\n",
    "print list(set(final))[1:]\n",
    "\n",
    "\n"
   ]
  },
  {
   "cell_type": "code",
   "execution_count": 534,
   "metadata": {},
   "outputs": [
    {
     "name": "stdout",
     "output_type": "stream",
     "text": [
      "__version__\n",
      "M\n",
      "__header__\n",
      "__globals__\n",
      "(300, 300)\n"
     ]
    }
   ],
   "source": [
    "import scipy.io as sio\n",
    "\n",
    "filepath = '/Users/sudhakar/Downloads/Sitting/masks/image3.mat'\n",
    "test = sio.loadmat(filepath)\n",
    "\n",
    "\n",
    "# file = open('/Users/sudhakar/Downloads/Sitting/masks/image3.mat')\n",
    "\n",
    "\n",
    "\n",
    "file = sio.loadmat('/Users/sudhakar/Downloads/Sitting/masks/image3.mat')\n",
    "\n",
    "for key in file:\n",
    "    print key\n",
    "print np.array(file[\"M\"]).shape\n"
   ]
  }
 ],
 "metadata": {
  "kernelspec": {
   "display_name": "Python 2",
   "language": "python",
   "name": "python2"
  },
  "language_info": {
   "codemirror_mode": {
    "name": "ipython",
    "version": 2
   },
   "file_extension": ".py",
   "mimetype": "text/x-python",
   "name": "python",
   "nbconvert_exporter": "python",
   "pygments_lexer": "ipython2",
   "version": "2.7.13"
  }
 },
 "nbformat": 4,
 "nbformat_minor": 2
}
